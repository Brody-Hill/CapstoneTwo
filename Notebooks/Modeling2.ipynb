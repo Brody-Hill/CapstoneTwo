{
 "cells": [
  {
   "cell_type": "code",
   "execution_count": 1,
   "id": "2a0952a2",
   "metadata": {},
   "outputs": [],
   "source": [
    "import pandas as pd\n",
    "import numpy as np\n",
    "import matplotlib.pyplot as plt\n",
    "import seaborn as sns"
   ]
  },
  {
   "cell_type": "code",
   "execution_count": 2,
   "id": "e3fcd2b7",
   "metadata": {},
   "outputs": [],
   "source": [
    "from sklearn import tree, metrics\n",
    "from sklearn.metrics import mean_squared_error\n",
    "from sklearn.model_selection import train_test_split\n",
    "from sklearn.ensemble import RandomForestRegressor\n",
    "from sklearn.model_selection import RandomizedSearchCV\n",
    "from sklearn.pipeline import make_pipeline\n",
    "from sklearn.preprocessing import StandardScaler\n",
    "from sklearn.ensemble import GradientBoostingRegressor\n",
    "from sklearn.inspection import permutation_importance"
   ]
  },
  {
   "cell_type": "markdown",
   "id": "0e49c3c0",
   "metadata": {},
   "source": [
    "# Remember the process\n",
    "\n",
    "    Seperate your data into X and y\n",
    "    \n",
    "    Encode your data\n",
    "    \n",
    "    Split your data\n",
    "    \n",
    "    Scale your data\n",
    "    \n",
    "    Model your data"
   ]
  },
  {
   "cell_type": "code",
   "execution_count": 12,
   "id": "a88d574f",
   "metadata": {},
   "outputs": [
    {
     "data": {
      "text/html": [
       "<div>\n",
       "<style scoped>\n",
       "    .dataframe tbody tr th:only-of-type {\n",
       "        vertical-align: middle;\n",
       "    }\n",
       "\n",
       "    .dataframe tbody tr th {\n",
       "        vertical-align: top;\n",
       "    }\n",
       "\n",
       "    .dataframe thead th {\n",
       "        text-align: right;\n",
       "    }\n",
       "</style>\n",
       "<table border=\"1\" class=\"dataframe\">\n",
       "  <thead>\n",
       "    <tr style=\"text-align: right;\">\n",
       "      <th></th>\n",
       "      <th>manufacturer</th>\n",
       "      <th>GPU</th>\n",
       "      <th>releaseYear</th>\n",
       "      <th>memSize</th>\n",
       "      <th>memBusWidth</th>\n",
       "      <th>gpuClock</th>\n",
       "      <th>memClock</th>\n",
       "      <th>tmu</th>\n",
       "      <th>rop</th>\n",
       "      <th>igp</th>\n",
       "      <th>bus</th>\n",
       "      <th>memType</th>\n",
       "      <th>gpuChip</th>\n",
       "      <th>G3Dmark</th>\n",
       "      <th>G2Dmark</th>\n",
       "      <th>testDate</th>\n",
       "      <th>category</th>\n",
       "    </tr>\n",
       "  </thead>\n",
       "  <tbody>\n",
       "    <tr>\n",
       "      <th>0</th>\n",
       "      <td>NVIDIA</td>\n",
       "      <td>GeForce MX550</td>\n",
       "      <td>2022</td>\n",
       "      <td>2.0</td>\n",
       "      <td>64.0</td>\n",
       "      <td>1065</td>\n",
       "      <td>1500.0</td>\n",
       "      <td>32</td>\n",
       "      <td>16</td>\n",
       "      <td>No</td>\n",
       "      <td>PCIe 4.0 x8</td>\n",
       "      <td>GDDR6</td>\n",
       "      <td>TU117</td>\n",
       "      <td>5090</td>\n",
       "      <td>424</td>\n",
       "      <td>2022</td>\n",
       "      <td>Unknown</td>\n",
       "    </tr>\n",
       "    <tr>\n",
       "      <th>1</th>\n",
       "      <td>NVIDIA</td>\n",
       "      <td>GeForce RTX 3090 Ti</td>\n",
       "      <td>2022</td>\n",
       "      <td>24.0</td>\n",
       "      <td>384.0</td>\n",
       "      <td>1560</td>\n",
       "      <td>1313.0</td>\n",
       "      <td>336</td>\n",
       "      <td>112</td>\n",
       "      <td>No</td>\n",
       "      <td>PCIe 4.0 x16</td>\n",
       "      <td>GDDR6X</td>\n",
       "      <td>GA102</td>\n",
       "      <td>29094</td>\n",
       "      <td>1117</td>\n",
       "      <td>2022</td>\n",
       "      <td>Unknown</td>\n",
       "    </tr>\n",
       "    <tr>\n",
       "      <th>2</th>\n",
       "      <td>AMD</td>\n",
       "      <td>Radeon RX 6400</td>\n",
       "      <td>2022</td>\n",
       "      <td>4.0</td>\n",
       "      <td>64.0</td>\n",
       "      <td>1923</td>\n",
       "      <td>2000.0</td>\n",
       "      <td>48</td>\n",
       "      <td>32</td>\n",
       "      <td>No</td>\n",
       "      <td>PCIe 4.0 x4</td>\n",
       "      <td>GDDR6</td>\n",
       "      <td>Navi 24</td>\n",
       "      <td>6958</td>\n",
       "      <td>899</td>\n",
       "      <td>2022</td>\n",
       "      <td>Unknown</td>\n",
       "    </tr>\n",
       "    <tr>\n",
       "      <th>3</th>\n",
       "      <td>AMD</td>\n",
       "      <td>Radeon RX 6500 XT</td>\n",
       "      <td>2022</td>\n",
       "      <td>4.0</td>\n",
       "      <td>64.0</td>\n",
       "      <td>2310</td>\n",
       "      <td>2248.0</td>\n",
       "      <td>64</td>\n",
       "      <td>32</td>\n",
       "      <td>No</td>\n",
       "      <td>PCIe 4.0 x4</td>\n",
       "      <td>GDDR6</td>\n",
       "      <td>Navi 24</td>\n",
       "      <td>9445</td>\n",
       "      <td>910</td>\n",
       "      <td>2022</td>\n",
       "      <td>Unknown</td>\n",
       "    </tr>\n",
       "    <tr>\n",
       "      <th>4</th>\n",
       "      <td>AMD</td>\n",
       "      <td>Radeon RX 6700S</td>\n",
       "      <td>2022</td>\n",
       "      <td>8.0</td>\n",
       "      <td>128.0</td>\n",
       "      <td>1700</td>\n",
       "      <td>1750.0</td>\n",
       "      <td>112</td>\n",
       "      <td>64</td>\n",
       "      <td>No</td>\n",
       "      <td>PCIe 4.0 x8</td>\n",
       "      <td>GDDR6</td>\n",
       "      <td>Navi 23</td>\n",
       "      <td>11989</td>\n",
       "      <td>829</td>\n",
       "      <td>2022</td>\n",
       "      <td>Unknown</td>\n",
       "    </tr>\n",
       "  </tbody>\n",
       "</table>\n",
       "</div>"
      ],
      "text/plain": [
       "  manufacturer                  GPU  releaseYear  memSize  memBusWidth  \\\n",
       "0       NVIDIA        GeForce MX550         2022      2.0         64.0   \n",
       "1       NVIDIA  GeForce RTX 3090 Ti         2022     24.0        384.0   \n",
       "2          AMD       Radeon RX 6400         2022      4.0         64.0   \n",
       "3          AMD    Radeon RX 6500 XT         2022      4.0         64.0   \n",
       "4          AMD      Radeon RX 6700S         2022      8.0        128.0   \n",
       "\n",
       "   gpuClock  memClock  tmu  rop igp           bus memType  gpuChip  G3Dmark  \\\n",
       "0      1065    1500.0   32   16  No   PCIe 4.0 x8   GDDR6    TU117     5090   \n",
       "1      1560    1313.0  336  112  No  PCIe 4.0 x16  GDDR6X    GA102    29094   \n",
       "2      1923    2000.0   48   32  No   PCIe 4.0 x4   GDDR6  Navi 24     6958   \n",
       "3      2310    2248.0   64   32  No   PCIe 4.0 x4   GDDR6  Navi 24     9445   \n",
       "4      1700    1750.0  112   64  No   PCIe 4.0 x8   GDDR6  Navi 23    11989   \n",
       "\n",
       "   G2Dmark  testDate category  \n",
       "0      424      2022  Unknown  \n",
       "1     1117      2022  Unknown  \n",
       "2      899      2022  Unknown  \n",
       "3      910      2022  Unknown  \n",
       "4      829      2022  Unknown  "
      ]
     },
     "execution_count": 12,
     "metadata": {},
     "output_type": "execute_result"
    }
   ],
   "source": [
    "gpu = pd.read_csv('gpu.csv')\n",
    "gpu.head()"
   ]
  },
  {
   "cell_type": "code",
   "execution_count": 13,
   "id": "c209cb7f",
   "metadata": {},
   "outputs": [],
   "source": [
    "X = gpu.drop(columns = ['G3Dmark'])"
   ]
  },
  {
   "cell_type": "code",
   "execution_count": 14,
   "id": "be1b41c5",
   "metadata": {},
   "outputs": [
    {
     "data": {
      "text/html": [
       "<div>\n",
       "<style scoped>\n",
       "    .dataframe tbody tr th:only-of-type {\n",
       "        vertical-align: middle;\n",
       "    }\n",
       "\n",
       "    .dataframe tbody tr th {\n",
       "        vertical-align: top;\n",
       "    }\n",
       "\n",
       "    .dataframe thead th {\n",
       "        text-align: right;\n",
       "    }\n",
       "</style>\n",
       "<table border=\"1\" class=\"dataframe\">\n",
       "  <thead>\n",
       "    <tr style=\"text-align: right;\">\n",
       "      <th></th>\n",
       "      <th>manufacturer</th>\n",
       "      <th>GPU</th>\n",
       "      <th>releaseYear</th>\n",
       "      <th>memSize</th>\n",
       "      <th>memBusWidth</th>\n",
       "      <th>gpuClock</th>\n",
       "      <th>memClock</th>\n",
       "      <th>tmu</th>\n",
       "      <th>rop</th>\n",
       "      <th>igp</th>\n",
       "      <th>bus</th>\n",
       "      <th>memType</th>\n",
       "      <th>gpuChip</th>\n",
       "      <th>G2Dmark</th>\n",
       "      <th>testDate</th>\n",
       "      <th>category</th>\n",
       "    </tr>\n",
       "  </thead>\n",
       "  <tbody>\n",
       "    <tr>\n",
       "      <th>0</th>\n",
       "      <td>NVIDIA</td>\n",
       "      <td>GeForce MX550</td>\n",
       "      <td>2022</td>\n",
       "      <td>2.0</td>\n",
       "      <td>64.0</td>\n",
       "      <td>1065</td>\n",
       "      <td>1500.0</td>\n",
       "      <td>32</td>\n",
       "      <td>16</td>\n",
       "      <td>No</td>\n",
       "      <td>PCIe 4.0 x8</td>\n",
       "      <td>GDDR6</td>\n",
       "      <td>TU117</td>\n",
       "      <td>424</td>\n",
       "      <td>2022</td>\n",
       "      <td>Unknown</td>\n",
       "    </tr>\n",
       "    <tr>\n",
       "      <th>1</th>\n",
       "      <td>NVIDIA</td>\n",
       "      <td>GeForce RTX 3090 Ti</td>\n",
       "      <td>2022</td>\n",
       "      <td>24.0</td>\n",
       "      <td>384.0</td>\n",
       "      <td>1560</td>\n",
       "      <td>1313.0</td>\n",
       "      <td>336</td>\n",
       "      <td>112</td>\n",
       "      <td>No</td>\n",
       "      <td>PCIe 4.0 x16</td>\n",
       "      <td>GDDR6X</td>\n",
       "      <td>GA102</td>\n",
       "      <td>1117</td>\n",
       "      <td>2022</td>\n",
       "      <td>Unknown</td>\n",
       "    </tr>\n",
       "    <tr>\n",
       "      <th>2</th>\n",
       "      <td>AMD</td>\n",
       "      <td>Radeon RX 6400</td>\n",
       "      <td>2022</td>\n",
       "      <td>4.0</td>\n",
       "      <td>64.0</td>\n",
       "      <td>1923</td>\n",
       "      <td>2000.0</td>\n",
       "      <td>48</td>\n",
       "      <td>32</td>\n",
       "      <td>No</td>\n",
       "      <td>PCIe 4.0 x4</td>\n",
       "      <td>GDDR6</td>\n",
       "      <td>Navi 24</td>\n",
       "      <td>899</td>\n",
       "      <td>2022</td>\n",
       "      <td>Unknown</td>\n",
       "    </tr>\n",
       "    <tr>\n",
       "      <th>3</th>\n",
       "      <td>AMD</td>\n",
       "      <td>Radeon RX 6500 XT</td>\n",
       "      <td>2022</td>\n",
       "      <td>4.0</td>\n",
       "      <td>64.0</td>\n",
       "      <td>2310</td>\n",
       "      <td>2248.0</td>\n",
       "      <td>64</td>\n",
       "      <td>32</td>\n",
       "      <td>No</td>\n",
       "      <td>PCIe 4.0 x4</td>\n",
       "      <td>GDDR6</td>\n",
       "      <td>Navi 24</td>\n",
       "      <td>910</td>\n",
       "      <td>2022</td>\n",
       "      <td>Unknown</td>\n",
       "    </tr>\n",
       "    <tr>\n",
       "      <th>4</th>\n",
       "      <td>AMD</td>\n",
       "      <td>Radeon RX 6700S</td>\n",
       "      <td>2022</td>\n",
       "      <td>8.0</td>\n",
       "      <td>128.0</td>\n",
       "      <td>1700</td>\n",
       "      <td>1750.0</td>\n",
       "      <td>112</td>\n",
       "      <td>64</td>\n",
       "      <td>No</td>\n",
       "      <td>PCIe 4.0 x8</td>\n",
       "      <td>GDDR6</td>\n",
       "      <td>Navi 23</td>\n",
       "      <td>829</td>\n",
       "      <td>2022</td>\n",
       "      <td>Unknown</td>\n",
       "    </tr>\n",
       "  </tbody>\n",
       "</table>\n",
       "</div>"
      ],
      "text/plain": [
       "  manufacturer                  GPU  releaseYear  memSize  memBusWidth  \\\n",
       "0       NVIDIA        GeForce MX550         2022      2.0         64.0   \n",
       "1       NVIDIA  GeForce RTX 3090 Ti         2022     24.0        384.0   \n",
       "2          AMD       Radeon RX 6400         2022      4.0         64.0   \n",
       "3          AMD    Radeon RX 6500 XT         2022      4.0         64.0   \n",
       "4          AMD      Radeon RX 6700S         2022      8.0        128.0   \n",
       "\n",
       "   gpuClock  memClock  tmu  rop igp           bus memType  gpuChip  G2Dmark  \\\n",
       "0      1065    1500.0   32   16  No   PCIe 4.0 x8   GDDR6    TU117      424   \n",
       "1      1560    1313.0  336  112  No  PCIe 4.0 x16  GDDR6X    GA102     1117   \n",
       "2      1923    2000.0   48   32  No   PCIe 4.0 x4   GDDR6  Navi 24      899   \n",
       "3      2310    2248.0   64   32  No   PCIe 4.0 x4   GDDR6  Navi 24      910   \n",
       "4      1700    1750.0  112   64  No   PCIe 4.0 x8   GDDR6  Navi 23      829   \n",
       "\n",
       "   testDate category  \n",
       "0      2022  Unknown  \n",
       "1      2022  Unknown  \n",
       "2      2022  Unknown  \n",
       "3      2022  Unknown  \n",
       "4      2022  Unknown  "
      ]
     },
     "execution_count": 14,
     "metadata": {},
     "output_type": "execute_result"
    }
   ],
   "source": [
    "X.head()"
   ]
  },
  {
   "cell_type": "code",
   "execution_count": 15,
   "id": "6e2077bd",
   "metadata": {},
   "outputs": [],
   "source": [
    "y = gpu.G3Dmark"
   ]
  },
  {
   "cell_type": "code",
   "execution_count": 16,
   "id": "3b472430",
   "metadata": {},
   "outputs": [
    {
     "data": {
      "text/plain": [
       "(0     5090\n",
       " 1    29094\n",
       " 2     6958\n",
       " 3     9445\n",
       " 4    11989\n",
       " Name: G3Dmark, dtype: int64,\n",
       " (786,))"
      ]
     },
     "execution_count": 16,
     "metadata": {},
     "output_type": "execute_result"
    }
   ],
   "source": [
    "y.head(), y.shape"
   ]
  },
  {
   "cell_type": "code",
   "execution_count": 17,
   "id": "3816fe9c",
   "metadata": {},
   "outputs": [
    {
     "data": {
      "text/plain": [
       "manufacturer     object\n",
       "GPU              object\n",
       "releaseYear       int64\n",
       "memSize         float64\n",
       "memBusWidth     float64\n",
       "gpuClock          int64\n",
       "memClock        float64\n",
       "tmu               int64\n",
       "rop               int64\n",
       "igp              object\n",
       "bus              object\n",
       "memType          object\n",
       "gpuChip          object\n",
       "G2Dmark           int64\n",
       "testDate          int64\n",
       "category         object\n",
       "dtype: object"
      ]
     },
     "execution_count": 17,
     "metadata": {},
     "output_type": "execute_result"
    }
   ],
   "source": [
    "X.dtypes"
   ]
  },
  {
   "cell_type": "markdown",
   "id": "c38f5abe",
   "metadata": {},
   "source": [
    "So I've split my data into X and y. Y is of course my predictor variable, the 3DMark scores for every card, and X is all my other columns. Since 7 of my columns in X are categorical, I need to create dummies by one hot encoding them so they can be used in my model. Rememebr, I'll be creating a random forrest moodel here. Since I'll be using a random forest model, I dont neccesarily need to scale my data. (Hey Steve, I know the rubric says we need to scale the data, bit I'll try first with no scaling since we're using a tree based model)\n",
    "\n",
    "I know were getting a bit ahead, but my process will be...\n",
    "\n",
    "Create Dummies\n",
    "Split my data\n",
    "Create a model instance\n",
    "Go from there.\n",
    "\n",
    "Let's creat the dummies. "
   ]
  },
  {
   "cell_type": "code",
   "execution_count": 18,
   "id": "2f213602",
   "metadata": {},
   "outputs": [],
   "source": [
    "X = pd.get_dummies(X)"
   ]
  },
  {
   "cell_type": "code",
   "execution_count": 19,
   "id": "1856e60a",
   "metadata": {},
   "outputs": [
    {
     "data": {
      "text/html": [
       "<div>\n",
       "<style scoped>\n",
       "    .dataframe tbody tr th:only-of-type {\n",
       "        vertical-align: middle;\n",
       "    }\n",
       "\n",
       "    .dataframe tbody tr th {\n",
       "        vertical-align: top;\n",
       "    }\n",
       "\n",
       "    .dataframe thead th {\n",
       "        text-align: right;\n",
       "    }\n",
       "</style>\n",
       "<table border=\"1\" class=\"dataframe\">\n",
       "  <thead>\n",
       "    <tr style=\"text-align: right;\">\n",
       "      <th></th>\n",
       "      <th>releaseYear</th>\n",
       "      <th>memSize</th>\n",
       "      <th>memBusWidth</th>\n",
       "      <th>gpuClock</th>\n",
       "      <th>memClock</th>\n",
       "      <th>tmu</th>\n",
       "      <th>rop</th>\n",
       "      <th>G2Dmark</th>\n",
       "      <th>testDate</th>\n",
       "      <th>manufacturer_AMD</th>\n",
       "      <th>...</th>\n",
       "      <th>gpuChip_Vega 20</th>\n",
       "      <th>gpuChip_Venus</th>\n",
       "      <th>gpuChip_Vesuvius</th>\n",
       "      <th>gpuChip_Whistler</th>\n",
       "      <th>gpuChip_Wimbledon</th>\n",
       "      <th>category_Desktop</th>\n",
       "      <th>category_Mobile</th>\n",
       "      <th>category_Mobile, Workstation</th>\n",
       "      <th>category_Unknown</th>\n",
       "      <th>category_Workstation</th>\n",
       "    </tr>\n",
       "  </thead>\n",
       "  <tbody>\n",
       "    <tr>\n",
       "      <th>0</th>\n",
       "      <td>2022</td>\n",
       "      <td>2.0</td>\n",
       "      <td>64.0</td>\n",
       "      <td>1065</td>\n",
       "      <td>1500.0</td>\n",
       "      <td>32</td>\n",
       "      <td>16</td>\n",
       "      <td>424</td>\n",
       "      <td>2022</td>\n",
       "      <td>False</td>\n",
       "      <td>...</td>\n",
       "      <td>False</td>\n",
       "      <td>False</td>\n",
       "      <td>False</td>\n",
       "      <td>False</td>\n",
       "      <td>False</td>\n",
       "      <td>False</td>\n",
       "      <td>False</td>\n",
       "      <td>False</td>\n",
       "      <td>True</td>\n",
       "      <td>False</td>\n",
       "    </tr>\n",
       "    <tr>\n",
       "      <th>1</th>\n",
       "      <td>2022</td>\n",
       "      <td>24.0</td>\n",
       "      <td>384.0</td>\n",
       "      <td>1560</td>\n",
       "      <td>1313.0</td>\n",
       "      <td>336</td>\n",
       "      <td>112</td>\n",
       "      <td>1117</td>\n",
       "      <td>2022</td>\n",
       "      <td>False</td>\n",
       "      <td>...</td>\n",
       "      <td>False</td>\n",
       "      <td>False</td>\n",
       "      <td>False</td>\n",
       "      <td>False</td>\n",
       "      <td>False</td>\n",
       "      <td>False</td>\n",
       "      <td>False</td>\n",
       "      <td>False</td>\n",
       "      <td>True</td>\n",
       "      <td>False</td>\n",
       "    </tr>\n",
       "    <tr>\n",
       "      <th>2</th>\n",
       "      <td>2022</td>\n",
       "      <td>4.0</td>\n",
       "      <td>64.0</td>\n",
       "      <td>1923</td>\n",
       "      <td>2000.0</td>\n",
       "      <td>48</td>\n",
       "      <td>32</td>\n",
       "      <td>899</td>\n",
       "      <td>2022</td>\n",
       "      <td>True</td>\n",
       "      <td>...</td>\n",
       "      <td>False</td>\n",
       "      <td>False</td>\n",
       "      <td>False</td>\n",
       "      <td>False</td>\n",
       "      <td>False</td>\n",
       "      <td>False</td>\n",
       "      <td>False</td>\n",
       "      <td>False</td>\n",
       "      <td>True</td>\n",
       "      <td>False</td>\n",
       "    </tr>\n",
       "    <tr>\n",
       "      <th>3</th>\n",
       "      <td>2022</td>\n",
       "      <td>4.0</td>\n",
       "      <td>64.0</td>\n",
       "      <td>2310</td>\n",
       "      <td>2248.0</td>\n",
       "      <td>64</td>\n",
       "      <td>32</td>\n",
       "      <td>910</td>\n",
       "      <td>2022</td>\n",
       "      <td>True</td>\n",
       "      <td>...</td>\n",
       "      <td>False</td>\n",
       "      <td>False</td>\n",
       "      <td>False</td>\n",
       "      <td>False</td>\n",
       "      <td>False</td>\n",
       "      <td>False</td>\n",
       "      <td>False</td>\n",
       "      <td>False</td>\n",
       "      <td>True</td>\n",
       "      <td>False</td>\n",
       "    </tr>\n",
       "    <tr>\n",
       "      <th>4</th>\n",
       "      <td>2022</td>\n",
       "      <td>8.0</td>\n",
       "      <td>128.0</td>\n",
       "      <td>1700</td>\n",
       "      <td>1750.0</td>\n",
       "      <td>112</td>\n",
       "      <td>64</td>\n",
       "      <td>829</td>\n",
       "      <td>2022</td>\n",
       "      <td>True</td>\n",
       "      <td>...</td>\n",
       "      <td>False</td>\n",
       "      <td>False</td>\n",
       "      <td>False</td>\n",
       "      <td>False</td>\n",
       "      <td>False</td>\n",
       "      <td>False</td>\n",
       "      <td>False</td>\n",
       "      <td>False</td>\n",
       "      <td>True</td>\n",
       "      <td>False</td>\n",
       "    </tr>\n",
       "  </tbody>\n",
       "</table>\n",
       "<p>5 rows × 985 columns</p>\n",
       "</div>"
      ],
      "text/plain": [
       "   releaseYear  memSize  memBusWidth  gpuClock  memClock  tmu  rop  G2Dmark  \\\n",
       "0         2022      2.0         64.0      1065    1500.0   32   16      424   \n",
       "1         2022     24.0        384.0      1560    1313.0  336  112     1117   \n",
       "2         2022      4.0         64.0      1923    2000.0   48   32      899   \n",
       "3         2022      4.0         64.0      2310    2248.0   64   32      910   \n",
       "4         2022      8.0        128.0      1700    1750.0  112   64      829   \n",
       "\n",
       "   testDate  manufacturer_AMD  ...  gpuChip_Vega 20  gpuChip_Venus  \\\n",
       "0      2022             False  ...            False          False   \n",
       "1      2022             False  ...            False          False   \n",
       "2      2022              True  ...            False          False   \n",
       "3      2022              True  ...            False          False   \n",
       "4      2022              True  ...            False          False   \n",
       "\n",
       "   gpuChip_Vesuvius  gpuChip_Whistler  gpuChip_Wimbledon  category_Desktop  \\\n",
       "0             False             False              False             False   \n",
       "1             False             False              False             False   \n",
       "2             False             False              False             False   \n",
       "3             False             False              False             False   \n",
       "4             False             False              False             False   \n",
       "\n",
       "   category_Mobile  category_Mobile, Workstation  category_Unknown  \\\n",
       "0            False                         False              True   \n",
       "1            False                         False              True   \n",
       "2            False                         False              True   \n",
       "3            False                         False              True   \n",
       "4            False                         False              True   \n",
       "\n",
       "   category_Workstation  \n",
       "0                 False  \n",
       "1                 False  \n",
       "2                 False  \n",
       "3                 False  \n",
       "4                 False  \n",
       "\n",
       "[5 rows x 985 columns]"
      ]
     },
     "execution_count": 19,
     "metadata": {},
     "output_type": "execute_result"
    }
   ],
   "source": [
    "X.head()"
   ]
  },
  {
   "cell_type": "code",
   "execution_count": 20,
   "id": "317c9c9d",
   "metadata": {},
   "outputs": [],
   "source": [
    "X_train, X_test, y_train, y_test = train_test_split(X, y, test_size = 0.25, random_state = 100)"
   ]
  },
  {
   "cell_type": "code",
   "execution_count": 21,
   "id": "40d930bb",
   "metadata": {},
   "outputs": [
    {
     "data": {
      "text/plain": [
       "((589, 985), (197, 985))"
      ]
     },
     "execution_count": 21,
     "metadata": {},
     "output_type": "execute_result"
    }
   ],
   "source": [
    "X_train.shape, X_test.shape"
   ]
  },
  {
   "cell_type": "code",
   "execution_count": 22,
   "id": "94f07641",
   "metadata": {},
   "outputs": [
    {
     "data": {
      "text/plain": [
       "((589,), (197,))"
      ]
     },
     "execution_count": 22,
     "metadata": {},
     "output_type": "execute_result"
    }
   ],
   "source": [
    "y_train.shape, y_test.shape"
   ]
  },
  {
   "cell_type": "code",
   "execution_count": 23,
   "id": "22cdf5b5",
   "metadata": {},
   "outputs": [
    {
     "data": {
      "text/plain": [
       "releaseYear                       int64\n",
       "memSize                         float64\n",
       "memBusWidth                     float64\n",
       "gpuClock                          int64\n",
       "memClock                        float64\n",
       "                                 ...   \n",
       "category_Desktop                   bool\n",
       "category_Mobile                    bool\n",
       "category_Mobile, Workstation       bool\n",
       "category_Unknown                   bool\n",
       "category_Workstation               bool\n",
       "Length: 985, dtype: object"
      ]
     },
     "execution_count": 23,
     "metadata": {},
     "output_type": "execute_result"
    }
   ],
   "source": [
    "X_train.dtypes"
   ]
  },
  {
   "cell_type": "markdown",
   "id": "e5b9764b",
   "metadata": {},
   "source": [
    "Will the one hot features here being bools create issues? "
   ]
  },
  {
   "cell_type": "markdown",
   "id": "d5a75614",
   "metadata": {},
   "source": [
    "First, we'll look at modeling without scaling my data since the goal is a random forest model. \n",
    "\n",
    "I'll create my model, train it, evaluate some results, and tune from there. "
   ]
  },
  {
   "cell_type": "code",
   "execution_count": 24,
   "id": "1644206e",
   "metadata": {},
   "outputs": [],
   "source": [
    "RF = RandomForestRegressor()"
   ]
  },
  {
   "cell_type": "code",
   "execution_count": 25,
   "id": "89bdfc4b",
   "metadata": {},
   "outputs": [
    {
     "data": {
      "text/html": [
       "<style>#sk-container-id-1 {color: black;}#sk-container-id-1 pre{padding: 0;}#sk-container-id-1 div.sk-toggleable {background-color: white;}#sk-container-id-1 label.sk-toggleable__label {cursor: pointer;display: block;width: 100%;margin-bottom: 0;padding: 0.3em;box-sizing: border-box;text-align: center;}#sk-container-id-1 label.sk-toggleable__label-arrow:before {content: \"▸\";float: left;margin-right: 0.25em;color: #696969;}#sk-container-id-1 label.sk-toggleable__label-arrow:hover:before {color: black;}#sk-container-id-1 div.sk-estimator:hover label.sk-toggleable__label-arrow:before {color: black;}#sk-container-id-1 div.sk-toggleable__content {max-height: 0;max-width: 0;overflow: hidden;text-align: left;background-color: #f0f8ff;}#sk-container-id-1 div.sk-toggleable__content pre {margin: 0.2em;color: black;border-radius: 0.25em;background-color: #f0f8ff;}#sk-container-id-1 input.sk-toggleable__control:checked~div.sk-toggleable__content {max-height: 200px;max-width: 100%;overflow: auto;}#sk-container-id-1 input.sk-toggleable__control:checked~label.sk-toggleable__label-arrow:before {content: \"▾\";}#sk-container-id-1 div.sk-estimator input.sk-toggleable__control:checked~label.sk-toggleable__label {background-color: #d4ebff;}#sk-container-id-1 div.sk-label input.sk-toggleable__control:checked~label.sk-toggleable__label {background-color: #d4ebff;}#sk-container-id-1 input.sk-hidden--visually {border: 0;clip: rect(1px 1px 1px 1px);clip: rect(1px, 1px, 1px, 1px);height: 1px;margin: -1px;overflow: hidden;padding: 0;position: absolute;width: 1px;}#sk-container-id-1 div.sk-estimator {font-family: monospace;background-color: #f0f8ff;border: 1px dotted black;border-radius: 0.25em;box-sizing: border-box;margin-bottom: 0.5em;}#sk-container-id-1 div.sk-estimator:hover {background-color: #d4ebff;}#sk-container-id-1 div.sk-parallel-item::after {content: \"\";width: 100%;border-bottom: 1px solid gray;flex-grow: 1;}#sk-container-id-1 div.sk-label:hover label.sk-toggleable__label {background-color: #d4ebff;}#sk-container-id-1 div.sk-serial::before {content: \"\";position: absolute;border-left: 1px solid gray;box-sizing: border-box;top: 0;bottom: 0;left: 50%;z-index: 0;}#sk-container-id-1 div.sk-serial {display: flex;flex-direction: column;align-items: center;background-color: white;padding-right: 0.2em;padding-left: 0.2em;position: relative;}#sk-container-id-1 div.sk-item {position: relative;z-index: 1;}#sk-container-id-1 div.sk-parallel {display: flex;align-items: stretch;justify-content: center;background-color: white;position: relative;}#sk-container-id-1 div.sk-item::before, #sk-container-id-1 div.sk-parallel-item::before {content: \"\";position: absolute;border-left: 1px solid gray;box-sizing: border-box;top: 0;bottom: 0;left: 50%;z-index: -1;}#sk-container-id-1 div.sk-parallel-item {display: flex;flex-direction: column;z-index: 1;position: relative;background-color: white;}#sk-container-id-1 div.sk-parallel-item:first-child::after {align-self: flex-end;width: 50%;}#sk-container-id-1 div.sk-parallel-item:last-child::after {align-self: flex-start;width: 50%;}#sk-container-id-1 div.sk-parallel-item:only-child::after {width: 0;}#sk-container-id-1 div.sk-dashed-wrapped {border: 1px dashed gray;margin: 0 0.4em 0.5em 0.4em;box-sizing: border-box;padding-bottom: 0.4em;background-color: white;}#sk-container-id-1 div.sk-label label {font-family: monospace;font-weight: bold;display: inline-block;line-height: 1.2em;}#sk-container-id-1 div.sk-label-container {text-align: center;}#sk-container-id-1 div.sk-container {/* jupyter's `normalize.less` sets `[hidden] { display: none; }` but bootstrap.min.css set `[hidden] { display: none !important; }` so we also need the `!important` here to be able to override the default hidden behavior on the sphinx rendered scikit-learn.org. See: https://github.com/scikit-learn/scikit-learn/issues/21755 */display: inline-block !important;position: relative;}#sk-container-id-1 div.sk-text-repr-fallback {display: none;}</style><div id=\"sk-container-id-1\" class=\"sk-top-container\"><div class=\"sk-text-repr-fallback\"><pre>RandomForestRegressor()</pre><b>In a Jupyter environment, please rerun this cell to show the HTML representation or trust the notebook. <br />On GitHub, the HTML representation is unable to render, please try loading this page with nbviewer.org.</b></div><div class=\"sk-container\" hidden><div class=\"sk-item\"><div class=\"sk-estimator sk-toggleable\"><input class=\"sk-toggleable__control sk-hidden--visually\" id=\"sk-estimator-id-1\" type=\"checkbox\" checked><label for=\"sk-estimator-id-1\" class=\"sk-toggleable__label sk-toggleable__label-arrow\">RandomForestRegressor</label><div class=\"sk-toggleable__content\"><pre>RandomForestRegressor()</pre></div></div></div></div></div>"
      ],
      "text/plain": [
       "RandomForestRegressor()"
      ]
     },
     "execution_count": 25,
     "metadata": {},
     "output_type": "execute_result"
    }
   ],
   "source": [
    "RF.fit(X_train, y_train)"
   ]
  },
  {
   "cell_type": "code",
   "execution_count": 26,
   "id": "439352d8",
   "metadata": {},
   "outputs": [],
   "source": [
    "y_pred = RF.predict(X_test)"
   ]
  },
  {
   "cell_type": "code",
   "execution_count": 27,
   "id": "fdb5b215",
   "metadata": {},
   "outputs": [],
   "source": [
    "from sklearn import metrics"
   ]
  },
  {
   "cell_type": "code",
   "execution_count": 28,
   "id": "af9ec519",
   "metadata": {},
   "outputs": [
    {
     "name": "stdout",
     "output_type": "stream",
     "text": [
      "Mean Absolute Error (MAE): 438.9074111675127\n",
      "Mean Squared Error (MSE): 591993.8818253806\n",
      "Root Mean Squared Error (RMSE): 769.4113865971706\n",
      "Mean Absolute Percentage Error (MAPE): 0.29903078929758525\n",
      "Explained Variance Score: 0.9755507843381375\n",
      "Max Error: 4515.84\n",
      "Mean Squared Log Error: 0.10680650400462534\n",
      "Median Absolute Error: 179.78999999999996\n",
      "R^2: 0.9754331344726135\n",
      "Mean Poisson Deviance: 115.77704570112354\n",
      "Mean Absolute Percentage Error (MAPE): 0.29903078929758525\n"
     ]
    }
   ],
   "source": [
    "print('Mean Absolute Error (MAE):', metrics.mean_absolute_error(y_test, y_pred))\n",
    "print('Mean Squared Error (MSE):', metrics.mean_squared_error(y_test, y_pred))\n",
    "print('Root Mean Squared Error (RMSE):', metrics.mean_squared_error(y_test, y_pred, squared=False))\n",
    "print('Mean Absolute Percentage Error (MAPE):', metrics.mean_absolute_percentage_error(y_test, y_pred))\n",
    "print('Explained Variance Score:', metrics.explained_variance_score(y_test, y_pred))\n",
    "print('Max Error:', metrics.max_error(y_test, y_pred))\n",
    "print('Mean Squared Log Error:', metrics.mean_squared_log_error(y_test, y_pred))\n",
    "print('Median Absolute Error:', metrics.median_absolute_error(y_test, y_pred))\n",
    "print('R^2:', metrics.r2_score(y_test, y_pred))\n",
    "print('Mean Poisson Deviance:', metrics.mean_poisson_deviance(y_test, y_pred))\n",
    "print('Mean Absolute Percentage Error (MAPE):', metrics.mean_absolute_percentage_error(y_test, y_pred))\n",
    "mape = np.mean(np.abs((y_test - y_pred) / np.abs(y_test)))"
   ]
  },
  {
   "cell_type": "code",
   "execution_count": 29,
   "id": "91e17c87",
   "metadata": {},
   "outputs": [
    {
     "name": "stdout",
     "output_type": "stream",
     "text": [
      "Root Mean Squared Error (RMSE): 769.4113865971706\n",
      "Max Error: 4515.84\n"
     ]
    }
   ],
   "source": [
    "print('Root Mean Squared Error (RMSE):', metrics.mean_squared_error(y_test, y_pred, squared=False))\n",
    "print('Max Error:', metrics.max_error(y_test, y_pred))\n",
    "\n",
    "RMSE1 = metrics.mean_squared_error(y_test, y_pred, squared=False)\n",
    "Max_Error1 = metrics.max_error(y_test, y_pred)"
   ]
  },
  {
   "cell_type": "code",
   "execution_count": 30,
   "id": "07499fe5",
   "metadata": {},
   "outputs": [
    {
     "name": "stdout",
     "output_type": "stream",
     "text": [
      "769.4113865971706\n",
      "4515.84\n"
     ]
    }
   ],
   "source": [
    "print(RMSE1)\n",
    "print(Max_Error1)"
   ]
  },
  {
   "cell_type": "markdown",
   "id": "dbb7d45c",
   "metadata": {},
   "source": [
    "I'm immediately sekptical about R squared, from what I understand if your data set has a ton of features that will naturally drive up the R squared value, I should probably look at adjusted R squared.\n",
    "\n",
    "Since our metric in question is the benchmark score, a max error of 4415 certainly isn't great, but it's not terrible either on the scale of benchmark scores. "
   ]
  },
  {
   "cell_type": "markdown",
   "id": "2ac9ea76",
   "metadata": {},
   "source": [
    "Now, I'm going to tune with Random Search CV to see if we can improve on this. First I'll call help on the RF regressor to check the parameters and their default values. "
   ]
  },
  {
   "cell_type": "code",
   "execution_count": 21,
   "id": "c55d136b",
   "metadata": {},
   "outputs": [
    {
     "name": "stdout",
     "output_type": "stream",
     "text": [
      "Help on class RandomForestRegressor in module sklearn.ensemble._forest:\n",
      "\n",
      "class RandomForestRegressor(ForestRegressor)\n",
      " |  RandomForestRegressor(n_estimators=100, *, criterion='squared_error', max_depth=None, min_samples_split=2, min_samples_leaf=1, min_weight_fraction_leaf=0.0, max_features=1.0, max_leaf_nodes=None, min_impurity_decrease=0.0, bootstrap=True, oob_score=False, n_jobs=None, random_state=None, verbose=0, warm_start=False, ccp_alpha=0.0, max_samples=None)\n",
      " |  \n",
      " |  A random forest regressor.\n",
      " |  \n",
      " |  A random forest is a meta estimator that fits a number of classifying\n",
      " |  decision trees on various sub-samples of the dataset and uses averaging\n",
      " |  to improve the predictive accuracy and control over-fitting.\n",
      " |  The sub-sample size is controlled with the `max_samples` parameter if\n",
      " |  `bootstrap=True` (default), otherwise the whole dataset is used to build\n",
      " |  each tree.\n",
      " |  \n",
      " |  For a comparison between tree-based ensemble models see the example\n",
      " |  :ref:`sphx_glr_auto_examples_ensemble_plot_forest_hist_grad_boosting_comparison.py`.\n",
      " |  \n",
      " |  Read more in the :ref:`User Guide <forest>`.\n",
      " |  \n",
      " |  Parameters\n",
      " |  ----------\n",
      " |  n_estimators : int, default=100\n",
      " |      The number of trees in the forest.\n",
      " |  \n",
      " |      .. versionchanged:: 0.22\n",
      " |         The default value of ``n_estimators`` changed from 10 to 100\n",
      " |         in 0.22.\n",
      " |  \n",
      " |  criterion : {\"squared_error\", \"absolute_error\", \"friedman_mse\", \"poisson\"},             default=\"squared_error\"\n",
      " |      The function to measure the quality of a split. Supported criteria\n",
      " |      are \"squared_error\" for the mean squared error, which is equal to\n",
      " |      variance reduction as feature selection criterion and minimizes the L2\n",
      " |      loss using the mean of each terminal node, \"friedman_mse\", which uses\n",
      " |      mean squared error with Friedman's improvement score for potential\n",
      " |      splits, \"absolute_error\" for the mean absolute error, which minimizes\n",
      " |      the L1 loss using the median of each terminal node, and \"poisson\" which\n",
      " |      uses reduction in Poisson deviance to find splits.\n",
      " |      Training using \"absolute_error\" is significantly slower\n",
      " |      than when using \"squared_error\".\n",
      " |  \n",
      " |      .. versionadded:: 0.18\n",
      " |         Mean Absolute Error (MAE) criterion.\n",
      " |  \n",
      " |      .. versionadded:: 1.0\n",
      " |         Poisson criterion.\n",
      " |  \n",
      " |  max_depth : int, default=None\n",
      " |      The maximum depth of the tree. If None, then nodes are expanded until\n",
      " |      all leaves are pure or until all leaves contain less than\n",
      " |      min_samples_split samples.\n",
      " |  \n",
      " |  min_samples_split : int or float, default=2\n",
      " |      The minimum number of samples required to split an internal node:\n",
      " |  \n",
      " |      - If int, then consider `min_samples_split` as the minimum number.\n",
      " |      - If float, then `min_samples_split` is a fraction and\n",
      " |        `ceil(min_samples_split * n_samples)` are the minimum\n",
      " |        number of samples for each split.\n",
      " |  \n",
      " |      .. versionchanged:: 0.18\n",
      " |         Added float values for fractions.\n",
      " |  \n",
      " |  min_samples_leaf : int or float, default=1\n",
      " |      The minimum number of samples required to be at a leaf node.\n",
      " |      A split point at any depth will only be considered if it leaves at\n",
      " |      least ``min_samples_leaf`` training samples in each of the left and\n",
      " |      right branches.  This may have the effect of smoothing the model,\n",
      " |      especially in regression.\n",
      " |  \n",
      " |      - If int, then consider `min_samples_leaf` as the minimum number.\n",
      " |      - If float, then `min_samples_leaf` is a fraction and\n",
      " |        `ceil(min_samples_leaf * n_samples)` are the minimum\n",
      " |        number of samples for each node.\n",
      " |  \n",
      " |      .. versionchanged:: 0.18\n",
      " |         Added float values for fractions.\n",
      " |  \n",
      " |  min_weight_fraction_leaf : float, default=0.0\n",
      " |      The minimum weighted fraction of the sum total of weights (of all\n",
      " |      the input samples) required to be at a leaf node. Samples have\n",
      " |      equal weight when sample_weight is not provided.\n",
      " |  \n",
      " |  max_features : {\"sqrt\", \"log2\", None}, int or float, default=1.0\n",
      " |      The number of features to consider when looking for the best split:\n",
      " |  \n",
      " |      - If int, then consider `max_features` features at each split.\n",
      " |      - If float, then `max_features` is a fraction and\n",
      " |        `max(1, int(max_features * n_features_in_))` features are considered at each\n",
      " |        split.\n",
      " |      - If \"sqrt\", then `max_features=sqrt(n_features)`.\n",
      " |      - If \"log2\", then `max_features=log2(n_features)`.\n",
      " |      - If None or 1.0, then `max_features=n_features`.\n",
      " |  \n",
      " |      .. note::\n",
      " |          The default of 1.0 is equivalent to bagged trees and more\n",
      " |          randomness can be achieved by setting smaller values, e.g. 0.3.\n",
      " |  \n",
      " |      .. versionchanged:: 1.1\n",
      " |          The default of `max_features` changed from `\"auto\"` to 1.0.\n",
      " |  \n",
      " |      Note: the search for a split does not stop until at least one\n",
      " |      valid partition of the node samples is found, even if it requires to\n",
      " |      effectively inspect more than ``max_features`` features.\n",
      " |  \n",
      " |  max_leaf_nodes : int, default=None\n",
      " |      Grow trees with ``max_leaf_nodes`` in best-first fashion.\n",
      " |      Best nodes are defined as relative reduction in impurity.\n",
      " |      If None then unlimited number of leaf nodes.\n",
      " |  \n",
      " |  min_impurity_decrease : float, default=0.0\n",
      " |      A node will be split if this split induces a decrease of the impurity\n",
      " |      greater than or equal to this value.\n",
      " |  \n",
      " |      The weighted impurity decrease equation is the following::\n",
      " |  \n",
      " |          N_t / N * (impurity - N_t_R / N_t * right_impurity\n",
      " |                              - N_t_L / N_t * left_impurity)\n",
      " |  \n",
      " |      where ``N`` is the total number of samples, ``N_t`` is the number of\n",
      " |      samples at the current node, ``N_t_L`` is the number of samples in the\n",
      " |      left child, and ``N_t_R`` is the number of samples in the right child.\n",
      " |  \n",
      " |      ``N``, ``N_t``, ``N_t_R`` and ``N_t_L`` all refer to the weighted sum,\n",
      " |      if ``sample_weight`` is passed.\n",
      " |  \n",
      " |      .. versionadded:: 0.19\n",
      " |  \n",
      " |  bootstrap : bool, default=True\n",
      " |      Whether bootstrap samples are used when building trees. If False, the\n",
      " |      whole dataset is used to build each tree.\n",
      " |  \n",
      " |  oob_score : bool or callable, default=False\n",
      " |      Whether to use out-of-bag samples to estimate the generalization score.\n",
      " |      By default, :func:`~sklearn.metrics.r2_score` is used.\n",
      " |      Provide a callable with signature `metric(y_true, y_pred)` to use a\n",
      " |      custom metric. Only available if `bootstrap=True`.\n",
      " |  \n",
      " |  n_jobs : int, default=None\n",
      " |      The number of jobs to run in parallel. :meth:`fit`, :meth:`predict`,\n",
      " |      :meth:`decision_path` and :meth:`apply` are all parallelized over the\n",
      " |      trees. ``None`` means 1 unless in a :obj:`joblib.parallel_backend`\n",
      " |      context. ``-1`` means using all processors. See :term:`Glossary\n",
      " |      <n_jobs>` for more details.\n",
      " |  \n",
      " |  random_state : int, RandomState instance or None, default=None\n",
      " |      Controls both the randomness of the bootstrapping of the samples used\n",
      " |      when building trees (if ``bootstrap=True``) and the sampling of the\n",
      " |      features to consider when looking for the best split at each node\n",
      " |      (if ``max_features < n_features``).\n",
      " |      See :term:`Glossary <random_state>` for details.\n",
      " |  \n",
      " |  verbose : int, default=0\n",
      " |      Controls the verbosity when fitting and predicting.\n",
      " |  \n",
      " |  warm_start : bool, default=False\n",
      " |      When set to ``True``, reuse the solution of the previous call to fit\n",
      " |      and add more estimators to the ensemble, otherwise, just fit a whole\n",
      " |      new forest. See :term:`Glossary <warm_start>` and\n",
      " |      :ref:`gradient_boosting_warm_start` for details.\n",
      " |  \n",
      " |  ccp_alpha : non-negative float, default=0.0\n",
      " |      Complexity parameter used for Minimal Cost-Complexity Pruning. The\n",
      " |      subtree with the largest cost complexity that is smaller than\n",
      " |      ``ccp_alpha`` will be chosen. By default, no pruning is performed. See\n",
      " |      :ref:`minimal_cost_complexity_pruning` for details.\n",
      " |  \n",
      " |      .. versionadded:: 0.22\n",
      " |  \n",
      " |  max_samples : int or float, default=None\n",
      " |      If bootstrap is True, the number of samples to draw from X\n",
      " |      to train each base estimator.\n",
      " |  \n",
      " |      - If None (default), then draw `X.shape[0]` samples.\n",
      " |      - If int, then draw `max_samples` samples.\n",
      " |      - If float, then draw `max(round(n_samples * max_samples), 1)` samples. Thus,\n",
      " |        `max_samples` should be in the interval `(0.0, 1.0]`.\n",
      " |  \n",
      " |      .. versionadded:: 0.22\n",
      " |  \n",
      " |  Attributes\n",
      " |  ----------\n",
      " |  estimator_ : :class:`~sklearn.tree.DecisionTreeRegressor`\n",
      " |      The child estimator template used to create the collection of fitted\n",
      " |      sub-estimators.\n",
      " |  \n",
      " |      .. versionadded:: 1.2\n",
      " |         `base_estimator_` was renamed to `estimator_`.\n",
      " |  \n",
      " |  base_estimator_ : DecisionTreeRegressor\n",
      " |      The child estimator template used to create the collection of fitted\n",
      " |      sub-estimators.\n",
      " |  \n",
      " |      .. deprecated:: 1.2\n",
      " |          `base_estimator_` is deprecated and will be removed in 1.4.\n",
      " |          Use `estimator_` instead.\n",
      " |  \n",
      " |  estimators_ : list of DecisionTreeRegressor\n",
      " |      The collection of fitted sub-estimators.\n",
      " |  \n",
      " |  feature_importances_ : ndarray of shape (n_features,)\n",
      " |      The impurity-based feature importances.\n",
      " |      The higher, the more important the feature.\n",
      " |      The importance of a feature is computed as the (normalized)\n",
      " |      total reduction of the criterion brought by that feature.  It is also\n",
      " |      known as the Gini importance.\n",
      " |  \n",
      " |      Warning: impurity-based feature importances can be misleading for\n",
      " |      high cardinality features (many unique values). See\n",
      " |      :func:`sklearn.inspection.permutation_importance` as an alternative.\n",
      " |  \n",
      " |  n_features_in_ : int\n",
      " |      Number of features seen during :term:`fit`.\n",
      " |  \n",
      " |      .. versionadded:: 0.24\n",
      " |  \n",
      " |  feature_names_in_ : ndarray of shape (`n_features_in_`,)\n",
      " |      Names of features seen during :term:`fit`. Defined only when `X`\n",
      " |      has feature names that are all strings.\n",
      " |  \n",
      " |      .. versionadded:: 1.0\n",
      " |  \n",
      " |  n_outputs_ : int\n",
      " |      The number of outputs when ``fit`` is performed.\n",
      " |  \n",
      " |  oob_score_ : float\n",
      " |      Score of the training dataset obtained using an out-of-bag estimate.\n",
      " |      This attribute exists only when ``oob_score`` is True.\n",
      " |  \n",
      " |  oob_prediction_ : ndarray of shape (n_samples,) or (n_samples, n_outputs)\n",
      " |      Prediction computed with out-of-bag estimate on the training set.\n",
      " |      This attribute exists only when ``oob_score`` is True.\n",
      " |  \n",
      " |  See Also\n",
      " |  --------\n",
      " |  sklearn.tree.DecisionTreeRegressor : A decision tree regressor.\n",
      " |  sklearn.ensemble.ExtraTreesRegressor : Ensemble of extremely randomized\n",
      " |      tree regressors.\n",
      " |  sklearn.ensemble.HistGradientBoostingRegressor : A Histogram-based Gradient\n",
      " |      Boosting Regression Tree, very fast for big datasets (n_samples >=\n",
      " |      10_000).\n",
      " |  \n",
      " |  Notes\n",
      " |  -----\n",
      " |  The default values for the parameters controlling the size of the trees\n",
      " |  (e.g. ``max_depth``, ``min_samples_leaf``, etc.) lead to fully grown and\n",
      " |  unpruned trees which can potentially be very large on some data sets. To\n",
      " |  reduce memory consumption, the complexity and size of the trees should be\n",
      " |  controlled by setting those parameter values.\n",
      " |  \n",
      " |  The features are always randomly permuted at each split. Therefore,\n",
      " |  the best found split may vary, even with the same training data,\n",
      " |  ``max_features=n_features`` and ``bootstrap=False``, if the improvement\n",
      " |  of the criterion is identical for several splits enumerated during the\n",
      " |  search of the best split. To obtain a deterministic behaviour during\n",
      " |  fitting, ``random_state`` has to be fixed.\n",
      " |  \n",
      " |  The default value ``max_features=1.0`` uses ``n_features``\n",
      " |  rather than ``n_features / 3``. The latter was originally suggested in\n",
      " |  [1], whereas the former was more recently justified empirically in [2].\n",
      " |  \n",
      " |  References\n",
      " |  ----------\n",
      " |  .. [1] L. Breiman, \"Random Forests\", Machine Learning, 45(1), 5-32, 2001.\n",
      " |  \n",
      " |  .. [2] P. Geurts, D. Ernst., and L. Wehenkel, \"Extremely randomized\n",
      " |         trees\", Machine Learning, 63(1), 3-42, 2006.\n",
      " |  \n",
      " |  Examples\n",
      " |  --------\n",
      " |  >>> from sklearn.ensemble import RandomForestRegressor\n",
      " |  >>> from sklearn.datasets import make_regression\n",
      " |  >>> X, y = make_regression(n_features=4, n_informative=2,\n",
      " |  ...                        random_state=0, shuffle=False)\n",
      " |  >>> regr = RandomForestRegressor(max_depth=2, random_state=0)\n",
      " |  >>> regr.fit(X, y)\n",
      " |  RandomForestRegressor(...)\n",
      " |  >>> print(regr.predict([[0, 0, 0, 0]]))\n",
      " |  [-8.32987858]\n",
      " |  \n",
      " |  Method resolution order:\n",
      " |      RandomForestRegressor\n",
      " |      ForestRegressor\n",
      " |      sklearn.base.RegressorMixin\n",
      " |      BaseForest\n",
      " |      sklearn.base.MultiOutputMixin\n",
      " |      sklearn.ensemble._base.BaseEnsemble\n",
      " |      sklearn.base.MetaEstimatorMixin\n",
      " |      sklearn.base.BaseEstimator\n",
      " |      sklearn.utils._metadata_requests._MetadataRequester\n",
      " |      builtins.object\n",
      " |  \n",
      " |  Methods defined here:\n",
      " |  \n",
      " |  __init__(self, n_estimators=100, *, criterion='squared_error', max_depth=None, min_samples_split=2, min_samples_leaf=1, min_weight_fraction_leaf=0.0, max_features=1.0, max_leaf_nodes=None, min_impurity_decrease=0.0, bootstrap=True, oob_score=False, n_jobs=None, random_state=None, verbose=0, warm_start=False, ccp_alpha=0.0, max_samples=None)\n",
      " |      Initialize self.  See help(type(self)) for accurate signature.\n",
      " |  \n",
      " |  set_fit_request(self: sklearn.ensemble._forest.RandomForestRegressor, *, sample_weight: Union[bool, NoneType, str] = '$UNCHANGED$') -> sklearn.ensemble._forest.RandomForestRegressor\n",
      " |      Request metadata passed to the ``fit`` method.\n",
      " |      \n",
      " |      Note that this method is only relevant if\n",
      " |      ``enable_metadata_routing=True`` (see :func:`sklearn.set_config`).\n",
      " |      Please see :ref:`User Guide <metadata_routing>` on how the routing\n",
      " |      mechanism works.\n",
      " |      \n",
      " |      The options for each parameter are:\n",
      " |      \n",
      " |      - ``True``: metadata is requested, and passed to ``fit`` if provided. The request is ignored if metadata is not provided.\n",
      " |      \n",
      " |      - ``False``: metadata is not requested and the meta-estimator will not pass it to ``fit``.\n",
      " |      \n",
      " |      - ``None``: metadata is not requested, and the meta-estimator will raise an error if the user provides it.\n",
      " |      \n",
      " |      - ``str``: metadata should be passed to the meta-estimator with this given alias instead of the original name.\n",
      " |      \n",
      " |      The default (``sklearn.utils.metadata_routing.UNCHANGED``) retains the\n",
      " |      existing request. This allows you to change the request for some\n",
      " |      parameters and not others.\n",
      " |      \n",
      " |      .. versionadded:: 1.3\n",
      " |      \n",
      " |      .. note::\n",
      " |          This method is only relevant if this estimator is used as a\n",
      " |          sub-estimator of a meta-estimator, e.g. used inside a\n",
      " |          :class:`pipeline.Pipeline`. Otherwise it has no effect.\n",
      " |      \n",
      " |      Parameters\n",
      " |      ----------\n",
      " |      sample_weight : str, True, False, or None,                     default=sklearn.utils.metadata_routing.UNCHANGED\n",
      " |          Metadata routing for ``sample_weight`` parameter in ``fit``.\n",
      " |      \n",
      " |      Returns\n",
      " |      -------\n",
      " |      self : object\n",
      " |          The updated object.\n",
      " |  \n",
      " |  set_score_request(self: sklearn.ensemble._forest.RandomForestRegressor, *, sample_weight: Union[bool, NoneType, str] = '$UNCHANGED$') -> sklearn.ensemble._forest.RandomForestRegressor\n",
      " |      Request metadata passed to the ``score`` method.\n",
      " |      \n",
      " |      Note that this method is only relevant if\n",
      " |      ``enable_metadata_routing=True`` (see :func:`sklearn.set_config`).\n",
      " |      Please see :ref:`User Guide <metadata_routing>` on how the routing\n",
      " |      mechanism works.\n",
      " |      \n",
      " |      The options for each parameter are:\n",
      " |      \n",
      " |      - ``True``: metadata is requested, and passed to ``score`` if provided. The request is ignored if metadata is not provided.\n",
      " |      \n",
      " |      - ``False``: metadata is not requested and the meta-estimator will not pass it to ``score``.\n",
      " |      \n",
      " |      - ``None``: metadata is not requested, and the meta-estimator will raise an error if the user provides it.\n",
      " |      \n",
      " |      - ``str``: metadata should be passed to the meta-estimator with this given alias instead of the original name.\n",
      " |      \n",
      " |      The default (``sklearn.utils.metadata_routing.UNCHANGED``) retains the\n",
      " |      existing request. This allows you to change the request for some\n",
      " |      parameters and not others.\n",
      " |      \n",
      " |      .. versionadded:: 1.3\n",
      " |      \n",
      " |      .. note::\n",
      " |          This method is only relevant if this estimator is used as a\n",
      " |          sub-estimator of a meta-estimator, e.g. used inside a\n",
      " |          :class:`pipeline.Pipeline`. Otherwise it has no effect.\n",
      " |      \n",
      " |      Parameters\n",
      " |      ----------\n",
      " |      sample_weight : str, True, False, or None,                     default=sklearn.utils.metadata_routing.UNCHANGED\n",
      " |          Metadata routing for ``sample_weight`` parameter in ``score``.\n",
      " |      \n",
      " |      Returns\n",
      " |      -------\n",
      " |      self : object\n",
      " |          The updated object.\n",
      " |  \n",
      " |  ----------------------------------------------------------------------\n",
      " |  Data and other attributes defined here:\n",
      " |  \n",
      " |  __abstractmethods__ = frozenset()\n",
      " |  \n",
      " |  __annotations__ = {'_parameter_constraints': <class 'dict'>}\n",
      " |  \n",
      " |  ----------------------------------------------------------------------\n",
      " |  Methods inherited from ForestRegressor:\n",
      " |  \n",
      " |  predict(self, X)\n",
      " |      Predict regression target for X.\n",
      " |      \n",
      " |      The predicted regression target of an input sample is computed as the\n",
      " |      mean predicted regression targets of the trees in the forest.\n",
      " |      \n",
      " |      Parameters\n",
      " |      ----------\n",
      " |      X : {array-like, sparse matrix} of shape (n_samples, n_features)\n",
      " |          The input samples. Internally, its dtype will be converted to\n",
      " |          ``dtype=np.float32``. If a sparse matrix is provided, it will be\n",
      " |          converted into a sparse ``csr_matrix``.\n",
      " |      \n",
      " |      Returns\n",
      " |      -------\n",
      " |      y : ndarray of shape (n_samples,) or (n_samples, n_outputs)\n",
      " |          The predicted values.\n",
      " |  \n",
      " |  ----------------------------------------------------------------------\n",
      " |  Methods inherited from sklearn.base.RegressorMixin:\n",
      " |  \n",
      " |  score(self, X, y, sample_weight=None)\n",
      " |      Return the coefficient of determination of the prediction.\n",
      " |      \n",
      " |      The coefficient of determination :math:`R^2` is defined as\n",
      " |      :math:`(1 - \\frac{u}{v})`, where :math:`u` is the residual\n",
      " |      sum of squares ``((y_true - y_pred)** 2).sum()`` and :math:`v`\n",
      " |      is the total sum of squares ``((y_true - y_true.mean()) ** 2).sum()``.\n",
      " |      The best possible score is 1.0 and it can be negative (because the\n",
      " |      model can be arbitrarily worse). A constant model that always predicts\n",
      " |      the expected value of `y`, disregarding the input features, would get\n",
      " |      a :math:`R^2` score of 0.0.\n",
      " |      \n",
      " |      Parameters\n",
      " |      ----------\n",
      " |      X : array-like of shape (n_samples, n_features)\n",
      " |          Test samples. For some estimators this may be a precomputed\n",
      " |          kernel matrix or a list of generic objects instead with shape\n",
      " |          ``(n_samples, n_samples_fitted)``, where ``n_samples_fitted``\n",
      " |          is the number of samples used in the fitting for the estimator.\n",
      " |      \n",
      " |      y : array-like of shape (n_samples,) or (n_samples, n_outputs)\n",
      " |          True values for `X`.\n",
      " |      \n",
      " |      sample_weight : array-like of shape (n_samples,), default=None\n",
      " |          Sample weights.\n",
      " |      \n",
      " |      Returns\n",
      " |      -------\n",
      " |      score : float\n",
      " |          :math:`R^2` of ``self.predict(X)`` w.r.t. `y`.\n",
      " |      \n",
      " |      Notes\n",
      " |      -----\n",
      " |      The :math:`R^2` score used when calling ``score`` on a regressor uses\n",
      " |      ``multioutput='uniform_average'`` from version 0.23 to keep consistent\n",
      " |      with default value of :func:`~sklearn.metrics.r2_score`.\n",
      " |      This influences the ``score`` method of all the multioutput\n",
      " |      regressors (except for\n",
      " |      :class:`~sklearn.multioutput.MultiOutputRegressor`).\n",
      " |  \n",
      " |  ----------------------------------------------------------------------\n",
      " |  Data descriptors inherited from sklearn.base.RegressorMixin:\n",
      " |  \n",
      " |  __dict__\n",
      " |      dictionary for instance variables (if defined)\n",
      " |  \n",
      " |  __weakref__\n",
      " |      list of weak references to the object (if defined)\n",
      " |  \n",
      " |  ----------------------------------------------------------------------\n",
      " |  Methods inherited from BaseForest:\n",
      " |  \n",
      " |  apply(self, X)\n",
      " |      Apply trees in the forest to X, return leaf indices.\n",
      " |      \n",
      " |      Parameters\n",
      " |      ----------\n",
      " |      X : {array-like, sparse matrix} of shape (n_samples, n_features)\n",
      " |          The input samples. Internally, its dtype will be converted to\n",
      " |          ``dtype=np.float32``. If a sparse matrix is provided, it will be\n",
      " |          converted into a sparse ``csr_matrix``.\n",
      " |      \n",
      " |      Returns\n",
      " |      -------\n",
      " |      X_leaves : ndarray of shape (n_samples, n_estimators)\n",
      " |          For each datapoint x in X and for each tree in the forest,\n",
      " |          return the index of the leaf x ends up in.\n",
      " |  \n",
      " |  decision_path(self, X)\n",
      " |      Return the decision path in the forest.\n",
      " |      \n",
      " |      .. versionadded:: 0.18\n",
      " |      \n",
      " |      Parameters\n",
      " |      ----------\n",
      " |      X : {array-like, sparse matrix} of shape (n_samples, n_features)\n",
      " |          The input samples. Internally, its dtype will be converted to\n",
      " |          ``dtype=np.float32``. If a sparse matrix is provided, it will be\n",
      " |          converted into a sparse ``csr_matrix``.\n",
      " |      \n",
      " |      Returns\n",
      " |      -------\n",
      " |      indicator : sparse matrix of shape (n_samples, n_nodes)\n",
      " |          Return a node indicator matrix where non zero elements indicates\n",
      " |          that the samples goes through the nodes. The matrix is of CSR\n",
      " |          format.\n",
      " |      \n",
      " |      n_nodes_ptr : ndarray of shape (n_estimators + 1,)\n",
      " |          The columns from indicator[n_nodes_ptr[i]:n_nodes_ptr[i+1]]\n",
      " |          gives the indicator value for the i-th estimator.\n",
      " |  \n",
      " |  fit(self, X, y, sample_weight=None)\n",
      " |      Build a forest of trees from the training set (X, y).\n",
      " |      \n",
      " |      Parameters\n",
      " |      ----------\n",
      " |      X : {array-like, sparse matrix} of shape (n_samples, n_features)\n",
      " |          The training input samples. Internally, its dtype will be converted\n",
      " |          to ``dtype=np.float32``. If a sparse matrix is provided, it will be\n",
      " |          converted into a sparse ``csc_matrix``.\n",
      " |      \n",
      " |      y : array-like of shape (n_samples,) or (n_samples, n_outputs)\n",
      " |          The target values (class labels in classification, real numbers in\n",
      " |          regression).\n",
      " |      \n",
      " |      sample_weight : array-like of shape (n_samples,), default=None\n",
      " |          Sample weights. If None, then samples are equally weighted. Splits\n",
      " |          that would create child nodes with net zero or negative weight are\n",
      " |          ignored while searching for a split in each node. In the case of\n",
      " |          classification, splits are also ignored if they would result in any\n",
      " |          single class carrying a negative weight in either child node.\n",
      " |      \n",
      " |      Returns\n",
      " |      -------\n",
      " |      self : object\n",
      " |          Fitted estimator.\n",
      " |  \n",
      " |  ----------------------------------------------------------------------\n",
      " |  Readonly properties inherited from BaseForest:\n",
      " |  \n",
      " |  feature_importances_\n",
      " |      The impurity-based feature importances.\n",
      " |      \n",
      " |      The higher, the more important the feature.\n",
      " |      The importance of a feature is computed as the (normalized)\n",
      " |      total reduction of the criterion brought by that feature.  It is also\n",
      " |      known as the Gini importance.\n",
      " |      \n",
      " |      Warning: impurity-based feature importances can be misleading for\n",
      " |      high cardinality features (many unique values). See\n",
      " |      :func:`sklearn.inspection.permutation_importance` as an alternative.\n",
      " |      \n",
      " |      Returns\n",
      " |      -------\n",
      " |      feature_importances_ : ndarray of shape (n_features,)\n",
      " |          The values of this array sum to 1, unless all trees are single node\n",
      " |          trees consisting of only the root node, in which case it will be an\n",
      " |          array of zeros.\n",
      " |  \n",
      " |  ----------------------------------------------------------------------\n",
      " |  Methods inherited from sklearn.ensemble._base.BaseEnsemble:\n",
      " |  \n",
      " |  __getitem__(self, index)\n",
      " |      Return the index'th estimator in the ensemble.\n",
      " |  \n",
      " |  __iter__(self)\n",
      " |      Return iterator over estimators in the ensemble.\n",
      " |  \n",
      " |  __len__(self)\n",
      " |      Return the number of estimators in the ensemble.\n",
      " |  \n",
      " |  ----------------------------------------------------------------------\n",
      " |  Readonly properties inherited from sklearn.ensemble._base.BaseEnsemble:\n",
      " |  \n",
      " |  base_estimator_\n",
      " |      Estimator used to grow the ensemble.\n",
      " |  \n",
      " |  ----------------------------------------------------------------------\n",
      " |  Methods inherited from sklearn.base.BaseEstimator:\n",
      " |  \n",
      " |  __getstate__(self)\n",
      " |      Helper for pickle.\n",
      " |  \n",
      " |  __repr__(self, N_CHAR_MAX=700)\n",
      " |      Return repr(self).\n",
      " |  \n",
      " |  __setstate__(self, state)\n",
      " |  \n",
      " |  __sklearn_clone__(self)\n",
      " |  \n",
      " |  get_params(self, deep=True)\n",
      " |      Get parameters for this estimator.\n",
      " |      \n",
      " |      Parameters\n",
      " |      ----------\n",
      " |      deep : bool, default=True\n",
      " |          If True, will return the parameters for this estimator and\n",
      " |          contained subobjects that are estimators.\n",
      " |      \n",
      " |      Returns\n",
      " |      -------\n",
      " |      params : dict\n",
      " |          Parameter names mapped to their values.\n",
      " |  \n",
      " |  set_params(self, **params)\n",
      " |      Set the parameters of this estimator.\n",
      " |      \n",
      " |      The method works on simple estimators as well as on nested objects\n",
      " |      (such as :class:`~sklearn.pipeline.Pipeline`). The latter have\n",
      " |      parameters of the form ``<component>__<parameter>`` so that it's\n",
      " |      possible to update each component of a nested object.\n",
      " |      \n",
      " |      Parameters\n",
      " |      ----------\n",
      " |      **params : dict\n",
      " |          Estimator parameters.\n",
      " |      \n",
      " |      Returns\n",
      " |      -------\n",
      " |      self : estimator instance\n",
      " |          Estimator instance.\n",
      " |  \n",
      " |  ----------------------------------------------------------------------\n",
      " |  Methods inherited from sklearn.utils._metadata_requests._MetadataRequester:\n",
      " |  \n",
      " |  get_metadata_routing(self)\n",
      " |      Get metadata routing of this object.\n",
      " |      \n",
      " |      Please check :ref:`User Guide <metadata_routing>` on how the routing\n",
      " |      mechanism works.\n",
      " |      \n",
      " |      Returns\n",
      " |      -------\n",
      " |      routing : MetadataRequest\n",
      " |          A :class:`~utils.metadata_routing.MetadataRequest` encapsulating\n",
      " |          routing information.\n",
      " |  \n",
      " |  ----------------------------------------------------------------------\n",
      " |  Class methods inherited from sklearn.utils._metadata_requests._MetadataRequester:\n",
      " |  \n",
      " |  __init_subclass__(**kwargs) from abc.ABCMeta\n",
      " |      Set the ``set_{method}_request`` methods.\n",
      " |      \n",
      " |      This uses PEP-487 [1]_ to set the ``set_{method}_request`` methods. It\n",
      " |      looks for the information available in the set default values which are\n",
      " |      set using ``__metadata_request__*`` class attributes, or inferred\n",
      " |      from method signatures.\n",
      " |      \n",
      " |      The ``__metadata_request__*`` class attributes are used when a method\n",
      " |      does not explicitly accept a metadata through its arguments or if the\n",
      " |      developer would like to specify a request value for those metadata\n",
      " |      which are different from the default ``None``.\n",
      " |      \n",
      " |      References\n",
      " |      ----------\n",
      " |      .. [1] https://www.python.org/dev/peps/pep-0487\n",
      "\n"
     ]
    }
   ],
   "source": [
    "help(RandomForestRegressor)"
   ]
  },
  {
   "cell_type": "markdown",
   "id": "caa471ac",
   "metadata": {},
   "source": [
    "I'll start by defining the values for my random grid. "
   ]
  },
  {
   "cell_type": "code",
   "execution_count": 84,
   "id": "13166815",
   "metadata": {},
   "outputs": [],
   "source": [
    "n_estimators = [int(x) for x in np.linspace(start = 100, stop = 1000, num = 10)]\n",
    "max_features = ['sqrt','log2', 1.0]\n",
    "min_samples_split = [2, 5, 10]\n",
    "min_samples_leaf = [1, 2, 4]\n",
    "bootstrap = [True, False]"
   ]
  },
  {
   "cell_type": "markdown",
   "id": "301aa576",
   "metadata": {},
   "source": [
    "Then, I'll define the random grid itself and create the CV object. We'll use 3 fold CV. "
   ]
  },
  {
   "cell_type": "code",
   "execution_count": 85,
   "id": "b5701af3",
   "metadata": {},
   "outputs": [
    {
     "data": {
      "text/html": [
       "<style>#sk-container-id-8 {color: black;}#sk-container-id-8 pre{padding: 0;}#sk-container-id-8 div.sk-toggleable {background-color: white;}#sk-container-id-8 label.sk-toggleable__label {cursor: pointer;display: block;width: 100%;margin-bottom: 0;padding: 0.3em;box-sizing: border-box;text-align: center;}#sk-container-id-8 label.sk-toggleable__label-arrow:before {content: \"▸\";float: left;margin-right: 0.25em;color: #696969;}#sk-container-id-8 label.sk-toggleable__label-arrow:hover:before {color: black;}#sk-container-id-8 div.sk-estimator:hover label.sk-toggleable__label-arrow:before {color: black;}#sk-container-id-8 div.sk-toggleable__content {max-height: 0;max-width: 0;overflow: hidden;text-align: left;background-color: #f0f8ff;}#sk-container-id-8 div.sk-toggleable__content pre {margin: 0.2em;color: black;border-radius: 0.25em;background-color: #f0f8ff;}#sk-container-id-8 input.sk-toggleable__control:checked~div.sk-toggleable__content {max-height: 200px;max-width: 100%;overflow: auto;}#sk-container-id-8 input.sk-toggleable__control:checked~label.sk-toggleable__label-arrow:before {content: \"▾\";}#sk-container-id-8 div.sk-estimator input.sk-toggleable__control:checked~label.sk-toggleable__label {background-color: #d4ebff;}#sk-container-id-8 div.sk-label input.sk-toggleable__control:checked~label.sk-toggleable__label {background-color: #d4ebff;}#sk-container-id-8 input.sk-hidden--visually {border: 0;clip: rect(1px 1px 1px 1px);clip: rect(1px, 1px, 1px, 1px);height: 1px;margin: -1px;overflow: hidden;padding: 0;position: absolute;width: 1px;}#sk-container-id-8 div.sk-estimator {font-family: monospace;background-color: #f0f8ff;border: 1px dotted black;border-radius: 0.25em;box-sizing: border-box;margin-bottom: 0.5em;}#sk-container-id-8 div.sk-estimator:hover {background-color: #d4ebff;}#sk-container-id-8 div.sk-parallel-item::after {content: \"\";width: 100%;border-bottom: 1px solid gray;flex-grow: 1;}#sk-container-id-8 div.sk-label:hover label.sk-toggleable__label {background-color: #d4ebff;}#sk-container-id-8 div.sk-serial::before {content: \"\";position: absolute;border-left: 1px solid gray;box-sizing: border-box;top: 0;bottom: 0;left: 50%;z-index: 0;}#sk-container-id-8 div.sk-serial {display: flex;flex-direction: column;align-items: center;background-color: white;padding-right: 0.2em;padding-left: 0.2em;position: relative;}#sk-container-id-8 div.sk-item {position: relative;z-index: 1;}#sk-container-id-8 div.sk-parallel {display: flex;align-items: stretch;justify-content: center;background-color: white;position: relative;}#sk-container-id-8 div.sk-item::before, #sk-container-id-8 div.sk-parallel-item::before {content: \"\";position: absolute;border-left: 1px solid gray;box-sizing: border-box;top: 0;bottom: 0;left: 50%;z-index: -1;}#sk-container-id-8 div.sk-parallel-item {display: flex;flex-direction: column;z-index: 1;position: relative;background-color: white;}#sk-container-id-8 div.sk-parallel-item:first-child::after {align-self: flex-end;width: 50%;}#sk-container-id-8 div.sk-parallel-item:last-child::after {align-self: flex-start;width: 50%;}#sk-container-id-8 div.sk-parallel-item:only-child::after {width: 0;}#sk-container-id-8 div.sk-dashed-wrapped {border: 1px dashed gray;margin: 0 0.4em 0.5em 0.4em;box-sizing: border-box;padding-bottom: 0.4em;background-color: white;}#sk-container-id-8 div.sk-label label {font-family: monospace;font-weight: bold;display: inline-block;line-height: 1.2em;}#sk-container-id-8 div.sk-label-container {text-align: center;}#sk-container-id-8 div.sk-container {/* jupyter's `normalize.less` sets `[hidden] { display: none; }` but bootstrap.min.css set `[hidden] { display: none !important; }` so we also need the `!important` here to be able to override the default hidden behavior on the sphinx rendered scikit-learn.org. See: https://github.com/scikit-learn/scikit-learn/issues/21755 */display: inline-block !important;position: relative;}#sk-container-id-8 div.sk-text-repr-fallback {display: none;}</style><div id=\"sk-container-id-8\" class=\"sk-top-container\"><div class=\"sk-text-repr-fallback\"><pre>RandomizedSearchCV(cv=10, estimator=RandomForestRegressor(), n_iter=50,\n",
       "                   param_distributions={&#x27;bootstrap&#x27;: [True, False],\n",
       "                                        &#x27;max_features&#x27;: [&#x27;sqrt&#x27;, &#x27;log2&#x27;, 1.0],\n",
       "                                        &#x27;min_samples_leaf&#x27;: [1, 2, 4],\n",
       "                                        &#x27;min_samples_split&#x27;: [2, 5, 10],\n",
       "                                        &#x27;n_estimators&#x27;: [100, 200, 300, 400,\n",
       "                                                         500, 600, 700, 800,\n",
       "                                                         900, 1000]},\n",
       "                   random_state=100)</pre><b>In a Jupyter environment, please rerun this cell to show the HTML representation or trust the notebook. <br />On GitHub, the HTML representation is unable to render, please try loading this page with nbviewer.org.</b></div><div class=\"sk-container\" hidden><div class=\"sk-item sk-dashed-wrapped\"><div class=\"sk-label-container\"><div class=\"sk-label sk-toggleable\"><input class=\"sk-toggleable__control sk-hidden--visually\" id=\"sk-estimator-id-14\" type=\"checkbox\" ><label for=\"sk-estimator-id-14\" class=\"sk-toggleable__label sk-toggleable__label-arrow\">RandomizedSearchCV</label><div class=\"sk-toggleable__content\"><pre>RandomizedSearchCV(cv=10, estimator=RandomForestRegressor(), n_iter=50,\n",
       "                   param_distributions={&#x27;bootstrap&#x27;: [True, False],\n",
       "                                        &#x27;max_features&#x27;: [&#x27;sqrt&#x27;, &#x27;log2&#x27;, 1.0],\n",
       "                                        &#x27;min_samples_leaf&#x27;: [1, 2, 4],\n",
       "                                        &#x27;min_samples_split&#x27;: [2, 5, 10],\n",
       "                                        &#x27;n_estimators&#x27;: [100, 200, 300, 400,\n",
       "                                                         500, 600, 700, 800,\n",
       "                                                         900, 1000]},\n",
       "                   random_state=100)</pre></div></div></div><div class=\"sk-parallel\"><div class=\"sk-parallel-item\"><div class=\"sk-item\"><div class=\"sk-label-container\"><div class=\"sk-label sk-toggleable\"><input class=\"sk-toggleable__control sk-hidden--visually\" id=\"sk-estimator-id-15\" type=\"checkbox\" ><label for=\"sk-estimator-id-15\" class=\"sk-toggleable__label sk-toggleable__label-arrow\">estimator: RandomForestRegressor</label><div class=\"sk-toggleable__content\"><pre>RandomForestRegressor()</pre></div></div></div><div class=\"sk-serial\"><div class=\"sk-item\"><div class=\"sk-estimator sk-toggleable\"><input class=\"sk-toggleable__control sk-hidden--visually\" id=\"sk-estimator-id-16\" type=\"checkbox\" ><label for=\"sk-estimator-id-16\" class=\"sk-toggleable__label sk-toggleable__label-arrow\">RandomForestRegressor</label><div class=\"sk-toggleable__content\"><pre>RandomForestRegressor()</pre></div></div></div></div></div></div></div></div></div></div>"
      ],
      "text/plain": [
       "RandomizedSearchCV(cv=10, estimator=RandomForestRegressor(), n_iter=50,\n",
       "                   param_distributions={'bootstrap': [True, False],\n",
       "                                        'max_features': ['sqrt', 'log2', 1.0],\n",
       "                                        'min_samples_leaf': [1, 2, 4],\n",
       "                                        'min_samples_split': [2, 5, 10],\n",
       "                                        'n_estimators': [100, 200, 300, 400,\n",
       "                                                         500, 600, 700, 800,\n",
       "                                                         900, 1000]},\n",
       "                   random_state=100)"
      ]
     },
     "execution_count": 85,
     "metadata": {},
     "output_type": "execute_result"
    }
   ],
   "source": [
    "random_grid = {'n_estimators': n_estimators,\n",
    "               'max_features': max_features,\n",
    "               'min_samples_split': min_samples_split,\n",
    "               'min_samples_leaf': min_samples_leaf,\n",
    "               'bootstrap': bootstrap}\n",
    "\n",
    "RFRandom = RandomizedSearchCV(estimator = RF,param_distributions = random_grid,n_iter = 50,cv = 10, random_state = 100)\n",
    "\n",
    "\n",
    "RFRandom.fit(X_train,y_train)"
   ]
  },
  {
   "cell_type": "code",
   "execution_count": 86,
   "id": "827cbb00",
   "metadata": {},
   "outputs": [
    {
     "name": "stdout",
     "output_type": "stream",
     "text": [
      "{'n_estimators': 1000, 'min_samples_split': 2, 'min_samples_leaf': 1, 'max_features': 'sqrt', 'bootstrap': False}\n"
     ]
    }
   ],
   "source": [
    "print(RFRandom.best_params_)"
   ]
  },
  {
   "cell_type": "code",
   "execution_count": 87,
   "id": "71f3b998",
   "metadata": {},
   "outputs": [],
   "source": [
    "y_pred3 = RFRandom.predict(X_test)"
   ]
  },
  {
   "cell_type": "code",
   "execution_count": 88,
   "id": "513e68ed",
   "metadata": {},
   "outputs": [
    {
     "name": "stdout",
     "output_type": "stream",
     "text": [
      "Root Mean Squared Error (RMSE): 812.3486822637144\n",
      "Max Error: 5045.304\n"
     ]
    }
   ],
   "source": [
    "print('Root Mean Squared Error (RMSE):', metrics.mean_squared_error(y_test, y_pred3, squared=False))\n",
    "print('Max Error:', metrics.max_error(y_test, y_pred3))\n",
    "\n",
    "RMSE2 = metrics.mean_squared_error(y_test, y_pred3, squared=False)\n",
    "ME2 = metrics.max_error(y_test, y_pred3)"
   ]
  },
  {
   "cell_type": "markdown",
   "id": "5dfd414e",
   "metadata": {},
   "source": [
    "This is not what I expected at all. Why did it decrease so much? Looking back, the default values are all included in the random grid, so it does not make sense to my why it could see such a decrease in performance. \n",
    "\n",
    "(Future Brody here, I was really only looking at accuracy when I did this, but I'm not sure how accuracy could be applied to regression since we're not predicting a yes or no outcome. Still, the MAE, MSE, and RMSE all increased.)\n",
    "\n",
    "We can try and find the issue later. For now, I am going to scale my data then run it through the out of the box random forest regressor. I'll do this through a pipeline. "
   ]
  },
  {
   "cell_type": "code",
   "execution_count": 31,
   "id": "251e74b2",
   "metadata": {},
   "outputs": [],
   "source": [
    "pipeline = make_pipeline(StandardScaler(), RandomForestRegressor())"
   ]
  },
  {
   "cell_type": "code",
   "execution_count": 32,
   "id": "eae45f19",
   "metadata": {},
   "outputs": [
    {
     "data": {
      "text/plain": [
       "sklearn.pipeline.Pipeline"
      ]
     },
     "execution_count": 32,
     "metadata": {},
     "output_type": "execute_result"
    }
   ],
   "source": [
    "type(pipeline)"
   ]
  },
  {
   "cell_type": "code",
   "execution_count": 33,
   "id": "231de4dc",
   "metadata": {},
   "outputs": [
    {
     "data": {
      "text/html": [
       "<style>#sk-container-id-2 {color: black;}#sk-container-id-2 pre{padding: 0;}#sk-container-id-2 div.sk-toggleable {background-color: white;}#sk-container-id-2 label.sk-toggleable__label {cursor: pointer;display: block;width: 100%;margin-bottom: 0;padding: 0.3em;box-sizing: border-box;text-align: center;}#sk-container-id-2 label.sk-toggleable__label-arrow:before {content: \"▸\";float: left;margin-right: 0.25em;color: #696969;}#sk-container-id-2 label.sk-toggleable__label-arrow:hover:before {color: black;}#sk-container-id-2 div.sk-estimator:hover label.sk-toggleable__label-arrow:before {color: black;}#sk-container-id-2 div.sk-toggleable__content {max-height: 0;max-width: 0;overflow: hidden;text-align: left;background-color: #f0f8ff;}#sk-container-id-2 div.sk-toggleable__content pre {margin: 0.2em;color: black;border-radius: 0.25em;background-color: #f0f8ff;}#sk-container-id-2 input.sk-toggleable__control:checked~div.sk-toggleable__content {max-height: 200px;max-width: 100%;overflow: auto;}#sk-container-id-2 input.sk-toggleable__control:checked~label.sk-toggleable__label-arrow:before {content: \"▾\";}#sk-container-id-2 div.sk-estimator input.sk-toggleable__control:checked~label.sk-toggleable__label {background-color: #d4ebff;}#sk-container-id-2 div.sk-label input.sk-toggleable__control:checked~label.sk-toggleable__label {background-color: #d4ebff;}#sk-container-id-2 input.sk-hidden--visually {border: 0;clip: rect(1px 1px 1px 1px);clip: rect(1px, 1px, 1px, 1px);height: 1px;margin: -1px;overflow: hidden;padding: 0;position: absolute;width: 1px;}#sk-container-id-2 div.sk-estimator {font-family: monospace;background-color: #f0f8ff;border: 1px dotted black;border-radius: 0.25em;box-sizing: border-box;margin-bottom: 0.5em;}#sk-container-id-2 div.sk-estimator:hover {background-color: #d4ebff;}#sk-container-id-2 div.sk-parallel-item::after {content: \"\";width: 100%;border-bottom: 1px solid gray;flex-grow: 1;}#sk-container-id-2 div.sk-label:hover label.sk-toggleable__label {background-color: #d4ebff;}#sk-container-id-2 div.sk-serial::before {content: \"\";position: absolute;border-left: 1px solid gray;box-sizing: border-box;top: 0;bottom: 0;left: 50%;z-index: 0;}#sk-container-id-2 div.sk-serial {display: flex;flex-direction: column;align-items: center;background-color: white;padding-right: 0.2em;padding-left: 0.2em;position: relative;}#sk-container-id-2 div.sk-item {position: relative;z-index: 1;}#sk-container-id-2 div.sk-parallel {display: flex;align-items: stretch;justify-content: center;background-color: white;position: relative;}#sk-container-id-2 div.sk-item::before, #sk-container-id-2 div.sk-parallel-item::before {content: \"\";position: absolute;border-left: 1px solid gray;box-sizing: border-box;top: 0;bottom: 0;left: 50%;z-index: -1;}#sk-container-id-2 div.sk-parallel-item {display: flex;flex-direction: column;z-index: 1;position: relative;background-color: white;}#sk-container-id-2 div.sk-parallel-item:first-child::after {align-self: flex-end;width: 50%;}#sk-container-id-2 div.sk-parallel-item:last-child::after {align-self: flex-start;width: 50%;}#sk-container-id-2 div.sk-parallel-item:only-child::after {width: 0;}#sk-container-id-2 div.sk-dashed-wrapped {border: 1px dashed gray;margin: 0 0.4em 0.5em 0.4em;box-sizing: border-box;padding-bottom: 0.4em;background-color: white;}#sk-container-id-2 div.sk-label label {font-family: monospace;font-weight: bold;display: inline-block;line-height: 1.2em;}#sk-container-id-2 div.sk-label-container {text-align: center;}#sk-container-id-2 div.sk-container {/* jupyter's `normalize.less` sets `[hidden] { display: none; }` but bootstrap.min.css set `[hidden] { display: none !important; }` so we also need the `!important` here to be able to override the default hidden behavior on the sphinx rendered scikit-learn.org. See: https://github.com/scikit-learn/scikit-learn/issues/21755 */display: inline-block !important;position: relative;}#sk-container-id-2 div.sk-text-repr-fallback {display: none;}</style><div id=\"sk-container-id-2\" class=\"sk-top-container\"><div class=\"sk-text-repr-fallback\"><pre>Pipeline(steps=[(&#x27;standardscaler&#x27;, StandardScaler()),\n",
       "                (&#x27;randomforestregressor&#x27;, RandomForestRegressor())])</pre><b>In a Jupyter environment, please rerun this cell to show the HTML representation or trust the notebook. <br />On GitHub, the HTML representation is unable to render, please try loading this page with nbviewer.org.</b></div><div class=\"sk-container\" hidden><div class=\"sk-item sk-dashed-wrapped\"><div class=\"sk-label-container\"><div class=\"sk-label sk-toggleable\"><input class=\"sk-toggleable__control sk-hidden--visually\" id=\"sk-estimator-id-2\" type=\"checkbox\" ><label for=\"sk-estimator-id-2\" class=\"sk-toggleable__label sk-toggleable__label-arrow\">Pipeline</label><div class=\"sk-toggleable__content\"><pre>Pipeline(steps=[(&#x27;standardscaler&#x27;, StandardScaler()),\n",
       "                (&#x27;randomforestregressor&#x27;, RandomForestRegressor())])</pre></div></div></div><div class=\"sk-serial\"><div class=\"sk-item\"><div class=\"sk-estimator sk-toggleable\"><input class=\"sk-toggleable__control sk-hidden--visually\" id=\"sk-estimator-id-3\" type=\"checkbox\" ><label for=\"sk-estimator-id-3\" class=\"sk-toggleable__label sk-toggleable__label-arrow\">StandardScaler</label><div class=\"sk-toggleable__content\"><pre>StandardScaler()</pre></div></div></div><div class=\"sk-item\"><div class=\"sk-estimator sk-toggleable\"><input class=\"sk-toggleable__control sk-hidden--visually\" id=\"sk-estimator-id-4\" type=\"checkbox\" ><label for=\"sk-estimator-id-4\" class=\"sk-toggleable__label sk-toggleable__label-arrow\">RandomForestRegressor</label><div class=\"sk-toggleable__content\"><pre>RandomForestRegressor()</pre></div></div></div></div></div></div></div>"
      ],
      "text/plain": [
       "Pipeline(steps=[('standardscaler', StandardScaler()),\n",
       "                ('randomforestregressor', RandomForestRegressor())])"
      ]
     },
     "execution_count": 33,
     "metadata": {},
     "output_type": "execute_result"
    }
   ],
   "source": [
    "pipeline.fit(X_train,y_train)"
   ]
  },
  {
   "cell_type": "code",
   "execution_count": 34,
   "id": "67007e89",
   "metadata": {},
   "outputs": [],
   "source": [
    "y_train_predicted = pipeline.predict(X_train)\n",
    "y_test_predicted = pipeline.predict(X_test)"
   ]
  },
  {
   "cell_type": "code",
   "execution_count": 35,
   "id": "ca558e2c",
   "metadata": {},
   "outputs": [
    {
     "name": "stdout",
     "output_type": "stream",
     "text": [
      "Root Mean Squared Error (RMSE): 760.6156885537608\n",
      "Max Error: 4608.85\n"
     ]
    }
   ],
   "source": [
    "\n",
    "print('Root Mean Squared Error (RMSE):', metrics.mean_squared_error(y_test, y_test_predicted, squared=False))\n",
    "print('Max Error:', metrics.max_error(y_test, y_test_predicted))\n",
    "\n",
    "RMSE3 = metrics.mean_squared_error(y_test, y_test_predicted, squared=False)\n",
    "ME3 = metrics.max_error(y_test, y_test_predicted)\n"
   ]
  },
  {
   "cell_type": "markdown",
   "id": "f84aba91",
   "metadata": {},
   "source": [
    "So it seems like scaling my data did actually improve things a bit. My Max Error, MAE, MSE, and MAPE decrease slighlty. I'm fairly certain R squared isn't telling me much of anything with this many feautres. We have over 1000 after encoding. "
   ]
  },
  {
   "cell_type": "markdown",
   "id": "37b9ab5d",
   "metadata": {},
   "source": [
    "So there are almost 1000 features after encoding. I want to try running things through a model using only my numerical features and not encoding anything."
   ]
  },
  {
   "cell_type": "code",
   "execution_count": 36,
   "id": "479b5acf",
   "metadata": {},
   "outputs": [],
   "source": [
    "y2 = gpu.G3Dmark\n",
    "X2 = gpu.drop(columns = ['G3Dmark', 'manufacturer','igp','bus','memType','gpuChip','category'])"
   ]
  },
  {
   "cell_type": "code",
   "execution_count": 37,
   "id": "ef970b6a",
   "metadata": {},
   "outputs": [
    {
     "data": {
      "text/html": [
       "<div>\n",
       "<style scoped>\n",
       "    .dataframe tbody tr th:only-of-type {\n",
       "        vertical-align: middle;\n",
       "    }\n",
       "\n",
       "    .dataframe tbody tr th {\n",
       "        vertical-align: top;\n",
       "    }\n",
       "\n",
       "    .dataframe thead th {\n",
       "        text-align: right;\n",
       "    }\n",
       "</style>\n",
       "<table border=\"1\" class=\"dataframe\">\n",
       "  <thead>\n",
       "    <tr style=\"text-align: right;\">\n",
       "      <th></th>\n",
       "      <th>GPU</th>\n",
       "      <th>releaseYear</th>\n",
       "      <th>memSize</th>\n",
       "      <th>memBusWidth</th>\n",
       "      <th>gpuClock</th>\n",
       "      <th>memClock</th>\n",
       "      <th>tmu</th>\n",
       "      <th>rop</th>\n",
       "      <th>G2Dmark</th>\n",
       "      <th>testDate</th>\n",
       "    </tr>\n",
       "  </thead>\n",
       "  <tbody>\n",
       "    <tr>\n",
       "      <th>0</th>\n",
       "      <td>GeForce MX550</td>\n",
       "      <td>2022</td>\n",
       "      <td>2.0</td>\n",
       "      <td>64.0</td>\n",
       "      <td>1065</td>\n",
       "      <td>1500.0</td>\n",
       "      <td>32</td>\n",
       "      <td>16</td>\n",
       "      <td>424</td>\n",
       "      <td>2022</td>\n",
       "    </tr>\n",
       "    <tr>\n",
       "      <th>1</th>\n",
       "      <td>GeForce RTX 3090 Ti</td>\n",
       "      <td>2022</td>\n",
       "      <td>24.0</td>\n",
       "      <td>384.0</td>\n",
       "      <td>1560</td>\n",
       "      <td>1313.0</td>\n",
       "      <td>336</td>\n",
       "      <td>112</td>\n",
       "      <td>1117</td>\n",
       "      <td>2022</td>\n",
       "    </tr>\n",
       "    <tr>\n",
       "      <th>2</th>\n",
       "      <td>Radeon RX 6400</td>\n",
       "      <td>2022</td>\n",
       "      <td>4.0</td>\n",
       "      <td>64.0</td>\n",
       "      <td>1923</td>\n",
       "      <td>2000.0</td>\n",
       "      <td>48</td>\n",
       "      <td>32</td>\n",
       "      <td>899</td>\n",
       "      <td>2022</td>\n",
       "    </tr>\n",
       "    <tr>\n",
       "      <th>3</th>\n",
       "      <td>Radeon RX 6500 XT</td>\n",
       "      <td>2022</td>\n",
       "      <td>4.0</td>\n",
       "      <td>64.0</td>\n",
       "      <td>2310</td>\n",
       "      <td>2248.0</td>\n",
       "      <td>64</td>\n",
       "      <td>32</td>\n",
       "      <td>910</td>\n",
       "      <td>2022</td>\n",
       "    </tr>\n",
       "    <tr>\n",
       "      <th>4</th>\n",
       "      <td>Radeon RX 6700S</td>\n",
       "      <td>2022</td>\n",
       "      <td>8.0</td>\n",
       "      <td>128.0</td>\n",
       "      <td>1700</td>\n",
       "      <td>1750.0</td>\n",
       "      <td>112</td>\n",
       "      <td>64</td>\n",
       "      <td>829</td>\n",
       "      <td>2022</td>\n",
       "    </tr>\n",
       "  </tbody>\n",
       "</table>\n",
       "</div>"
      ],
      "text/plain": [
       "                   GPU  releaseYear  memSize  memBusWidth  gpuClock  memClock  \\\n",
       "0        GeForce MX550         2022      2.0         64.0      1065    1500.0   \n",
       "1  GeForce RTX 3090 Ti         2022     24.0        384.0      1560    1313.0   \n",
       "2       Radeon RX 6400         2022      4.0         64.0      1923    2000.0   \n",
       "3    Radeon RX 6500 XT         2022      4.0         64.0      2310    2248.0   \n",
       "4      Radeon RX 6700S         2022      8.0        128.0      1700    1750.0   \n",
       "\n",
       "   tmu  rop  G2Dmark  testDate  \n",
       "0   32   16      424      2022  \n",
       "1  336  112     1117      2022  \n",
       "2   48   32      899      2022  \n",
       "3   64   32      910      2022  \n",
       "4  112   64      829      2022  "
      ]
     },
     "execution_count": 37,
     "metadata": {},
     "output_type": "execute_result"
    }
   ],
   "source": [
    "X2.head()"
   ]
  },
  {
   "cell_type": "code",
   "execution_count": 38,
   "id": "889ebbf7",
   "metadata": {},
   "outputs": [],
   "source": [
    "X2 = X2.set_index('GPU')"
   ]
  },
  {
   "cell_type": "code",
   "execution_count": 39,
   "id": "eecbe15f",
   "metadata": {},
   "outputs": [
    {
     "data": {
      "text/html": [
       "<div>\n",
       "<style scoped>\n",
       "    .dataframe tbody tr th:only-of-type {\n",
       "        vertical-align: middle;\n",
       "    }\n",
       "\n",
       "    .dataframe tbody tr th {\n",
       "        vertical-align: top;\n",
       "    }\n",
       "\n",
       "    .dataframe thead th {\n",
       "        text-align: right;\n",
       "    }\n",
       "</style>\n",
       "<table border=\"1\" class=\"dataframe\">\n",
       "  <thead>\n",
       "    <tr style=\"text-align: right;\">\n",
       "      <th></th>\n",
       "      <th>releaseYear</th>\n",
       "      <th>memSize</th>\n",
       "      <th>memBusWidth</th>\n",
       "      <th>gpuClock</th>\n",
       "      <th>memClock</th>\n",
       "      <th>tmu</th>\n",
       "      <th>rop</th>\n",
       "      <th>G2Dmark</th>\n",
       "      <th>testDate</th>\n",
       "    </tr>\n",
       "    <tr>\n",
       "      <th>GPU</th>\n",
       "      <th></th>\n",
       "      <th></th>\n",
       "      <th></th>\n",
       "      <th></th>\n",
       "      <th></th>\n",
       "      <th></th>\n",
       "      <th></th>\n",
       "      <th></th>\n",
       "      <th></th>\n",
       "    </tr>\n",
       "  </thead>\n",
       "  <tbody>\n",
       "    <tr>\n",
       "      <th>GeForce MX550</th>\n",
       "      <td>2022</td>\n",
       "      <td>2.0</td>\n",
       "      <td>64.0</td>\n",
       "      <td>1065</td>\n",
       "      <td>1500.0</td>\n",
       "      <td>32</td>\n",
       "      <td>16</td>\n",
       "      <td>424</td>\n",
       "      <td>2022</td>\n",
       "    </tr>\n",
       "    <tr>\n",
       "      <th>GeForce RTX 3090 Ti</th>\n",
       "      <td>2022</td>\n",
       "      <td>24.0</td>\n",
       "      <td>384.0</td>\n",
       "      <td>1560</td>\n",
       "      <td>1313.0</td>\n",
       "      <td>336</td>\n",
       "      <td>112</td>\n",
       "      <td>1117</td>\n",
       "      <td>2022</td>\n",
       "    </tr>\n",
       "    <tr>\n",
       "      <th>Radeon RX 6400</th>\n",
       "      <td>2022</td>\n",
       "      <td>4.0</td>\n",
       "      <td>64.0</td>\n",
       "      <td>1923</td>\n",
       "      <td>2000.0</td>\n",
       "      <td>48</td>\n",
       "      <td>32</td>\n",
       "      <td>899</td>\n",
       "      <td>2022</td>\n",
       "    </tr>\n",
       "    <tr>\n",
       "      <th>Radeon RX 6500 XT</th>\n",
       "      <td>2022</td>\n",
       "      <td>4.0</td>\n",
       "      <td>64.0</td>\n",
       "      <td>2310</td>\n",
       "      <td>2248.0</td>\n",
       "      <td>64</td>\n",
       "      <td>32</td>\n",
       "      <td>910</td>\n",
       "      <td>2022</td>\n",
       "    </tr>\n",
       "    <tr>\n",
       "      <th>Radeon RX 6700S</th>\n",
       "      <td>2022</td>\n",
       "      <td>8.0</td>\n",
       "      <td>128.0</td>\n",
       "      <td>1700</td>\n",
       "      <td>1750.0</td>\n",
       "      <td>112</td>\n",
       "      <td>64</td>\n",
       "      <td>829</td>\n",
       "      <td>2022</td>\n",
       "    </tr>\n",
       "  </tbody>\n",
       "</table>\n",
       "</div>"
      ],
      "text/plain": [
       "                     releaseYear  memSize  memBusWidth  gpuClock  memClock  \\\n",
       "GPU                                                                          \n",
       "GeForce MX550               2022      2.0         64.0      1065    1500.0   \n",
       "GeForce RTX 3090 Ti         2022     24.0        384.0      1560    1313.0   \n",
       "Radeon RX 6400              2022      4.0         64.0      1923    2000.0   \n",
       "Radeon RX 6500 XT           2022      4.0         64.0      2310    2248.0   \n",
       "Radeon RX 6700S             2022      8.0        128.0      1700    1750.0   \n",
       "\n",
       "                     tmu  rop  G2Dmark  testDate  \n",
       "GPU                                               \n",
       "GeForce MX550         32   16      424      2022  \n",
       "GeForce RTX 3090 Ti  336  112     1117      2022  \n",
       "Radeon RX 6400        48   32      899      2022  \n",
       "Radeon RX 6500 XT     64   32      910      2022  \n",
       "Radeon RX 6700S      112   64      829      2022  "
      ]
     },
     "execution_count": 39,
     "metadata": {},
     "output_type": "execute_result"
    }
   ],
   "source": [
    "X2.head()"
   ]
  },
  {
   "cell_type": "markdown",
   "id": "f466b3a6",
   "metadata": {},
   "source": [
    "So I dropped every column containing categorical data and set the GPU's themselves to the index. Now I will split and run it through the basic RF model. "
   ]
  },
  {
   "cell_type": "code",
   "execution_count": 40,
   "id": "0867b219",
   "metadata": {},
   "outputs": [],
   "source": [
    "X_train2, X_test2, y_train2, y_test2 = train_test_split(X2, y2, test_size = .25, random_state = 100)"
   ]
  },
  {
   "cell_type": "code",
   "execution_count": 41,
   "id": "e441e89f",
   "metadata": {},
   "outputs": [],
   "source": [
    "RF4 = RandomForestRegressor()"
   ]
  },
  {
   "cell_type": "code",
   "execution_count": 42,
   "id": "2bbf9966",
   "metadata": {},
   "outputs": [
    {
     "data": {
      "text/html": [
       "<style>#sk-container-id-3 {color: black;}#sk-container-id-3 pre{padding: 0;}#sk-container-id-3 div.sk-toggleable {background-color: white;}#sk-container-id-3 label.sk-toggleable__label {cursor: pointer;display: block;width: 100%;margin-bottom: 0;padding: 0.3em;box-sizing: border-box;text-align: center;}#sk-container-id-3 label.sk-toggleable__label-arrow:before {content: \"▸\";float: left;margin-right: 0.25em;color: #696969;}#sk-container-id-3 label.sk-toggleable__label-arrow:hover:before {color: black;}#sk-container-id-3 div.sk-estimator:hover label.sk-toggleable__label-arrow:before {color: black;}#sk-container-id-3 div.sk-toggleable__content {max-height: 0;max-width: 0;overflow: hidden;text-align: left;background-color: #f0f8ff;}#sk-container-id-3 div.sk-toggleable__content pre {margin: 0.2em;color: black;border-radius: 0.25em;background-color: #f0f8ff;}#sk-container-id-3 input.sk-toggleable__control:checked~div.sk-toggleable__content {max-height: 200px;max-width: 100%;overflow: auto;}#sk-container-id-3 input.sk-toggleable__control:checked~label.sk-toggleable__label-arrow:before {content: \"▾\";}#sk-container-id-3 div.sk-estimator input.sk-toggleable__control:checked~label.sk-toggleable__label {background-color: #d4ebff;}#sk-container-id-3 div.sk-label input.sk-toggleable__control:checked~label.sk-toggleable__label {background-color: #d4ebff;}#sk-container-id-3 input.sk-hidden--visually {border: 0;clip: rect(1px 1px 1px 1px);clip: rect(1px, 1px, 1px, 1px);height: 1px;margin: -1px;overflow: hidden;padding: 0;position: absolute;width: 1px;}#sk-container-id-3 div.sk-estimator {font-family: monospace;background-color: #f0f8ff;border: 1px dotted black;border-radius: 0.25em;box-sizing: border-box;margin-bottom: 0.5em;}#sk-container-id-3 div.sk-estimator:hover {background-color: #d4ebff;}#sk-container-id-3 div.sk-parallel-item::after {content: \"\";width: 100%;border-bottom: 1px solid gray;flex-grow: 1;}#sk-container-id-3 div.sk-label:hover label.sk-toggleable__label {background-color: #d4ebff;}#sk-container-id-3 div.sk-serial::before {content: \"\";position: absolute;border-left: 1px solid gray;box-sizing: border-box;top: 0;bottom: 0;left: 50%;z-index: 0;}#sk-container-id-3 div.sk-serial {display: flex;flex-direction: column;align-items: center;background-color: white;padding-right: 0.2em;padding-left: 0.2em;position: relative;}#sk-container-id-3 div.sk-item {position: relative;z-index: 1;}#sk-container-id-3 div.sk-parallel {display: flex;align-items: stretch;justify-content: center;background-color: white;position: relative;}#sk-container-id-3 div.sk-item::before, #sk-container-id-3 div.sk-parallel-item::before {content: \"\";position: absolute;border-left: 1px solid gray;box-sizing: border-box;top: 0;bottom: 0;left: 50%;z-index: -1;}#sk-container-id-3 div.sk-parallel-item {display: flex;flex-direction: column;z-index: 1;position: relative;background-color: white;}#sk-container-id-3 div.sk-parallel-item:first-child::after {align-self: flex-end;width: 50%;}#sk-container-id-3 div.sk-parallel-item:last-child::after {align-self: flex-start;width: 50%;}#sk-container-id-3 div.sk-parallel-item:only-child::after {width: 0;}#sk-container-id-3 div.sk-dashed-wrapped {border: 1px dashed gray;margin: 0 0.4em 0.5em 0.4em;box-sizing: border-box;padding-bottom: 0.4em;background-color: white;}#sk-container-id-3 div.sk-label label {font-family: monospace;font-weight: bold;display: inline-block;line-height: 1.2em;}#sk-container-id-3 div.sk-label-container {text-align: center;}#sk-container-id-3 div.sk-container {/* jupyter's `normalize.less` sets `[hidden] { display: none; }` but bootstrap.min.css set `[hidden] { display: none !important; }` so we also need the `!important` here to be able to override the default hidden behavior on the sphinx rendered scikit-learn.org. See: https://github.com/scikit-learn/scikit-learn/issues/21755 */display: inline-block !important;position: relative;}#sk-container-id-3 div.sk-text-repr-fallback {display: none;}</style><div id=\"sk-container-id-3\" class=\"sk-top-container\"><div class=\"sk-text-repr-fallback\"><pre>RandomForestRegressor()</pre><b>In a Jupyter environment, please rerun this cell to show the HTML representation or trust the notebook. <br />On GitHub, the HTML representation is unable to render, please try loading this page with nbviewer.org.</b></div><div class=\"sk-container\" hidden><div class=\"sk-item\"><div class=\"sk-estimator sk-toggleable\"><input class=\"sk-toggleable__control sk-hidden--visually\" id=\"sk-estimator-id-5\" type=\"checkbox\" checked><label for=\"sk-estimator-id-5\" class=\"sk-toggleable__label sk-toggleable__label-arrow\">RandomForestRegressor</label><div class=\"sk-toggleable__content\"><pre>RandomForestRegressor()</pre></div></div></div></div></div>"
      ],
      "text/plain": [
       "RandomForestRegressor()"
      ]
     },
     "execution_count": 42,
     "metadata": {},
     "output_type": "execute_result"
    }
   ],
   "source": [
    "RF4.fit(X_train2, y_train2)"
   ]
  },
  {
   "cell_type": "code",
   "execution_count": 43,
   "id": "920122e6",
   "metadata": {},
   "outputs": [],
   "source": [
    "y_pred4 = RF4.predict(X_test2)"
   ]
  },
  {
   "cell_type": "code",
   "execution_count": 44,
   "id": "30cf9993",
   "metadata": {},
   "outputs": [
    {
     "name": "stdout",
     "output_type": "stream",
     "text": [
      "Root Mean Squared Error (RMSE): 792.0931225021642\n",
      "Max Error: 4707.120000000001\n"
     ]
    }
   ],
   "source": [
    "print('Root Mean Squared Error (RMSE):', metrics.mean_squared_error(y_test2, y_pred4, squared=False))\n",
    "print('Max Error:', metrics.max_error(y_test2, y_pred4))\n",
    "\n",
    "RMSE4 = metrics.mean_squared_error(y_test2, y_pred4, squared=False)\n",
    "ME4 = metrics.max_error(y_test2, y_pred4)"
   ]
  },
  {
   "cell_type": "markdown",
   "id": "a9458cf0",
   "metadata": {},
   "source": [
    "So it seems like things have only gotten marginally worse from the inital model. Let's scale everything and try again."
   ]
  },
  {
   "cell_type": "code",
   "execution_count": 45,
   "id": "32db50f7",
   "metadata": {},
   "outputs": [],
   "source": [
    "pipeline2 = make_pipeline(StandardScaler(), RandomForestRegressor())"
   ]
  },
  {
   "cell_type": "code",
   "execution_count": 46,
   "id": "dcd5178e",
   "metadata": {},
   "outputs": [
    {
     "data": {
      "text/html": [
       "<style>#sk-container-id-4 {color: black;}#sk-container-id-4 pre{padding: 0;}#sk-container-id-4 div.sk-toggleable {background-color: white;}#sk-container-id-4 label.sk-toggleable__label {cursor: pointer;display: block;width: 100%;margin-bottom: 0;padding: 0.3em;box-sizing: border-box;text-align: center;}#sk-container-id-4 label.sk-toggleable__label-arrow:before {content: \"▸\";float: left;margin-right: 0.25em;color: #696969;}#sk-container-id-4 label.sk-toggleable__label-arrow:hover:before {color: black;}#sk-container-id-4 div.sk-estimator:hover label.sk-toggleable__label-arrow:before {color: black;}#sk-container-id-4 div.sk-toggleable__content {max-height: 0;max-width: 0;overflow: hidden;text-align: left;background-color: #f0f8ff;}#sk-container-id-4 div.sk-toggleable__content pre {margin: 0.2em;color: black;border-radius: 0.25em;background-color: #f0f8ff;}#sk-container-id-4 input.sk-toggleable__control:checked~div.sk-toggleable__content {max-height: 200px;max-width: 100%;overflow: auto;}#sk-container-id-4 input.sk-toggleable__control:checked~label.sk-toggleable__label-arrow:before {content: \"▾\";}#sk-container-id-4 div.sk-estimator input.sk-toggleable__control:checked~label.sk-toggleable__label {background-color: #d4ebff;}#sk-container-id-4 div.sk-label input.sk-toggleable__control:checked~label.sk-toggleable__label {background-color: #d4ebff;}#sk-container-id-4 input.sk-hidden--visually {border: 0;clip: rect(1px 1px 1px 1px);clip: rect(1px, 1px, 1px, 1px);height: 1px;margin: -1px;overflow: hidden;padding: 0;position: absolute;width: 1px;}#sk-container-id-4 div.sk-estimator {font-family: monospace;background-color: #f0f8ff;border: 1px dotted black;border-radius: 0.25em;box-sizing: border-box;margin-bottom: 0.5em;}#sk-container-id-4 div.sk-estimator:hover {background-color: #d4ebff;}#sk-container-id-4 div.sk-parallel-item::after {content: \"\";width: 100%;border-bottom: 1px solid gray;flex-grow: 1;}#sk-container-id-4 div.sk-label:hover label.sk-toggleable__label {background-color: #d4ebff;}#sk-container-id-4 div.sk-serial::before {content: \"\";position: absolute;border-left: 1px solid gray;box-sizing: border-box;top: 0;bottom: 0;left: 50%;z-index: 0;}#sk-container-id-4 div.sk-serial {display: flex;flex-direction: column;align-items: center;background-color: white;padding-right: 0.2em;padding-left: 0.2em;position: relative;}#sk-container-id-4 div.sk-item {position: relative;z-index: 1;}#sk-container-id-4 div.sk-parallel {display: flex;align-items: stretch;justify-content: center;background-color: white;position: relative;}#sk-container-id-4 div.sk-item::before, #sk-container-id-4 div.sk-parallel-item::before {content: \"\";position: absolute;border-left: 1px solid gray;box-sizing: border-box;top: 0;bottom: 0;left: 50%;z-index: -1;}#sk-container-id-4 div.sk-parallel-item {display: flex;flex-direction: column;z-index: 1;position: relative;background-color: white;}#sk-container-id-4 div.sk-parallel-item:first-child::after {align-self: flex-end;width: 50%;}#sk-container-id-4 div.sk-parallel-item:last-child::after {align-self: flex-start;width: 50%;}#sk-container-id-4 div.sk-parallel-item:only-child::after {width: 0;}#sk-container-id-4 div.sk-dashed-wrapped {border: 1px dashed gray;margin: 0 0.4em 0.5em 0.4em;box-sizing: border-box;padding-bottom: 0.4em;background-color: white;}#sk-container-id-4 div.sk-label label {font-family: monospace;font-weight: bold;display: inline-block;line-height: 1.2em;}#sk-container-id-4 div.sk-label-container {text-align: center;}#sk-container-id-4 div.sk-container {/* jupyter's `normalize.less` sets `[hidden] { display: none; }` but bootstrap.min.css set `[hidden] { display: none !important; }` so we also need the `!important` here to be able to override the default hidden behavior on the sphinx rendered scikit-learn.org. See: https://github.com/scikit-learn/scikit-learn/issues/21755 */display: inline-block !important;position: relative;}#sk-container-id-4 div.sk-text-repr-fallback {display: none;}</style><div id=\"sk-container-id-4\" class=\"sk-top-container\"><div class=\"sk-text-repr-fallback\"><pre>Pipeline(steps=[(&#x27;standardscaler&#x27;, StandardScaler()),\n",
       "                (&#x27;randomforestregressor&#x27;, RandomForestRegressor())])</pre><b>In a Jupyter environment, please rerun this cell to show the HTML representation or trust the notebook. <br />On GitHub, the HTML representation is unable to render, please try loading this page with nbviewer.org.</b></div><div class=\"sk-container\" hidden><div class=\"sk-item sk-dashed-wrapped\"><div class=\"sk-label-container\"><div class=\"sk-label sk-toggleable\"><input class=\"sk-toggleable__control sk-hidden--visually\" id=\"sk-estimator-id-6\" type=\"checkbox\" ><label for=\"sk-estimator-id-6\" class=\"sk-toggleable__label sk-toggleable__label-arrow\">Pipeline</label><div class=\"sk-toggleable__content\"><pre>Pipeline(steps=[(&#x27;standardscaler&#x27;, StandardScaler()),\n",
       "                (&#x27;randomforestregressor&#x27;, RandomForestRegressor())])</pre></div></div></div><div class=\"sk-serial\"><div class=\"sk-item\"><div class=\"sk-estimator sk-toggleable\"><input class=\"sk-toggleable__control sk-hidden--visually\" id=\"sk-estimator-id-7\" type=\"checkbox\" ><label for=\"sk-estimator-id-7\" class=\"sk-toggleable__label sk-toggleable__label-arrow\">StandardScaler</label><div class=\"sk-toggleable__content\"><pre>StandardScaler()</pre></div></div></div><div class=\"sk-item\"><div class=\"sk-estimator sk-toggleable\"><input class=\"sk-toggleable__control sk-hidden--visually\" id=\"sk-estimator-id-8\" type=\"checkbox\" ><label for=\"sk-estimator-id-8\" class=\"sk-toggleable__label sk-toggleable__label-arrow\">RandomForestRegressor</label><div class=\"sk-toggleable__content\"><pre>RandomForestRegressor()</pre></div></div></div></div></div></div></div>"
      ],
      "text/plain": [
       "Pipeline(steps=[('standardscaler', StandardScaler()),\n",
       "                ('randomforestregressor', RandomForestRegressor())])"
      ]
     },
     "execution_count": 46,
     "metadata": {},
     "output_type": "execute_result"
    }
   ],
   "source": [
    "pipeline2.fit(X_train2,y_train2)"
   ]
  },
  {
   "cell_type": "code",
   "execution_count": 47,
   "id": "b15a739d",
   "metadata": {},
   "outputs": [],
   "source": [
    "y_pred5 = pipeline2.predict(X_test2)"
   ]
  },
  {
   "cell_type": "code",
   "execution_count": 48,
   "id": "e9307d6c",
   "metadata": {},
   "outputs": [
    {
     "name": "stdout",
     "output_type": "stream",
     "text": [
      "Root Mean Squared Error (RMSE): 764.4876282907687\n",
      "Max Error: 3972.9400000000005\n"
     ]
    }
   ],
   "source": [
    "print('Root Mean Squared Error (RMSE):', metrics.mean_squared_error(y_test2, y_pred5, squared=False))\n",
    "print('Max Error:', metrics.max_error(y_test2, y_pred5))\n",
    "\n",
    "RMSE5 = metrics.mean_squared_error(y_test2, y_pred5, squared=False)\n",
    "ME5 = metrics.max_error(y_test2, y_pred5)"
   ]
  },
  {
   "cell_type": "markdown",
   "id": "050f6ceb",
   "metadata": {},
   "source": [
    "Well, there's the best model so far it seems judging primarily from the Max Error and MAE. Let's visualize the important features below. "
   ]
  },
  {
   "cell_type": "code",
   "execution_count": 49,
   "id": "29cec61a",
   "metadata": {},
   "outputs": [
    {
     "data": {
      "text/plain": [
       "([<matplotlib.axis.YTick at 0x164551990>,\n",
       "  <matplotlib.axis.YTick at 0x164548990>,\n",
       "  <matplotlib.axis.YTick at 0x16455c6d0>,\n",
       "  <matplotlib.axis.YTick at 0x137f080d0>,\n",
       "  <matplotlib.axis.YTick at 0x161e81290>,\n",
       "  <matplotlib.axis.YTick at 0x1641a1d10>,\n",
       "  <matplotlib.axis.YTick at 0x164222f10>,\n",
       "  <matplotlib.axis.YTick at 0x1640c3e50>,\n",
       "  <matplotlib.axis.YTick at 0x164595210>],\n",
       " [Text(0, 0.5, 'releaseYear'),\n",
       "  Text(0, 1.5, 'rop'),\n",
       "  Text(0, 2.5, 'manufacturer'),\n",
       "  Text(0, 3.5, 'GPU'),\n",
       "  Text(0, 4.5, 'gpuClock'),\n",
       "  Text(0, 5.5, 'memSize'),\n",
       "  Text(0, 6.5, 'memBusWidth'),\n",
       "  Text(0, 7.5, 'tmu'),\n",
       "  Text(0, 8.5, 'memClock')])"
      ]
     },
     "execution_count": 49,
     "metadata": {},
     "output_type": "execute_result"
    },
    {
     "data": {
      "image/png": "[encoded data removed]",
      "text/plain": [
       "<Figure size 1200x600 with 1 Axes>"
      ]
     },
     "metadata": {},
     "output_type": "display_data"
    }
   ],
   "source": [
    "sns.set_style('darkgrid')\n",
    "feature_importance2 = RF4.feature_importances_\n",
    "sorted_idx2 = np.argsort(feature_importance2)\n",
    "pos2 = np.arange(sorted_idx2.shape[0]) + 0.5\n",
    "fig2 = plt.figure(figsize=(12, 6))\n",
    "plt.subplot(1, 2, 1)\n",
    "plt.barh(pos2, feature_importance2[sorted_idx2], align=\"center\")\n",
    "plt.yticks(pos2, np.array(gpu.columns)[sorted_idx2])"
   ]
  },
  {
   "cell_type": "markdown",
   "id": "8ae8be56",
   "metadata": {},
   "source": [
    "So simply removing the categorical feautres and scaling the data seemed to imporve things a bit. Im not sure what to make of the feature importance graph above. \n",
    "\n",
    "Let's try encoding things different way, a way that doesnt result in almost 1000 features. I'll try count encoding, since it doesn't result in a bigger feature space after encoding. "
   ]
  },
  {
   "cell_type": "code",
   "execution_count": 50,
   "id": "54180ab9",
   "metadata": {},
   "outputs": [
    {
     "name": "stdout",
     "output_type": "stream",
     "text": [
      "Requirement already satisfied: category_encoders in /Users/brodyhill/anaconda3/lib/python3.11/site-packages (2.6.2)\n",
      "Requirement already satisfied: numpy>=1.14.0 in /Users/brodyhill/anaconda3/lib/python3.11/site-packages (from category_encoders) (1.24.3)\n",
      "Requirement already satisfied: scikit-learn>=0.20.0 in /Users/brodyhill/anaconda3/lib/python3.11/site-packages (from category_encoders) (1.3.0)\n",
      "Requirement already satisfied: scipy>=1.0.0 in /Users/brodyhill/anaconda3/lib/python3.11/site-packages (from category_encoders) (1.11.1)\n",
      "Requirement already satisfied: statsmodels>=0.9.0 in /Users/brodyhill/anaconda3/lib/python3.11/site-packages (from category_encoders) (0.14.0)\n",
      "Requirement already satisfied: pandas>=1.0.5 in /Users/brodyhill/anaconda3/lib/python3.11/site-packages (from category_encoders) (2.0.3)\n",
      "Requirement already satisfied: patsy>=0.5.1 in /Users/brodyhill/anaconda3/lib/python3.11/site-packages (from category_encoders) (0.5.3)\n",
      "Requirement already satisfied: python-dateutil>=2.8.2 in /Users/brodyhill/anaconda3/lib/python3.11/site-packages (from pandas>=1.0.5->category_encoders) (2.8.2)\n",
      "Requirement already satisfied: pytz>=2020.1 in /Users/brodyhill/anaconda3/lib/python3.11/site-packages (from pandas>=1.0.5->category_encoders) (2023.3.post1)\n",
      "Requirement already satisfied: tzdata>=2022.1 in /Users/brodyhill/anaconda3/lib/python3.11/site-packages (from pandas>=1.0.5->category_encoders) (2023.3)\n",
      "Requirement already satisfied: six in /Users/brodyhill/anaconda3/lib/python3.11/site-packages (from patsy>=0.5.1->category_encoders) (1.16.0)\n",
      "Requirement already satisfied: joblib>=1.1.1 in /Users/brodyhill/anaconda3/lib/python3.11/site-packages (from scikit-learn>=0.20.0->category_encoders) (1.2.0)\n",
      "Requirement already satisfied: threadpoolctl>=2.0.0 in /Users/brodyhill/anaconda3/lib/python3.11/site-packages (from scikit-learn>=0.20.0->category_encoders) (2.2.0)\n",
      "Requirement already satisfied: packaging>=21.3 in /Users/brodyhill/anaconda3/lib/python3.11/site-packages (from statsmodels>=0.9.0->category_encoders) (23.1)\n"
     ]
    }
   ],
   "source": [
    "!pip install category_encoders"
   ]
  },
  {
   "cell_type": "code",
   "execution_count": 51,
   "id": "542b9fa2",
   "metadata": {},
   "outputs": [],
   "source": [
    "from category_encoders.count import CountEncoder"
   ]
  },
  {
   "cell_type": "code",
   "execution_count": 52,
   "id": "7e3df5c1",
   "metadata": {},
   "outputs": [],
   "source": [
    "count_encoder = CountEncoder()"
   ]
  },
  {
   "cell_type": "code",
   "execution_count": 53,
   "id": "03e9a668",
   "metadata": {},
   "outputs": [],
   "source": [
    "X3 = gpu.drop(columns = ['G3Dmark'])"
   ]
  },
  {
   "cell_type": "code",
   "execution_count": 54,
   "id": "470fbce5",
   "metadata": {
    "scrolled": true
   },
   "outputs": [
    {
     "data": {
      "text/html": [
       "<div>\n",
       "<style scoped>\n",
       "    .dataframe tbody tr th:only-of-type {\n",
       "        vertical-align: middle;\n",
       "    }\n",
       "\n",
       "    .dataframe tbody tr th {\n",
       "        vertical-align: top;\n",
       "    }\n",
       "\n",
       "    .dataframe thead th {\n",
       "        text-align: right;\n",
       "    }\n",
       "</style>\n",
       "<table border=\"1\" class=\"dataframe\">\n",
       "  <thead>\n",
       "    <tr style=\"text-align: right;\">\n",
       "      <th></th>\n",
       "      <th>manufacturer</th>\n",
       "      <th>GPU</th>\n",
       "      <th>releaseYear</th>\n",
       "      <th>memSize</th>\n",
       "      <th>memBusWidth</th>\n",
       "      <th>gpuClock</th>\n",
       "      <th>memClock</th>\n",
       "      <th>tmu</th>\n",
       "      <th>rop</th>\n",
       "      <th>igp</th>\n",
       "      <th>bus</th>\n",
       "      <th>memType</th>\n",
       "      <th>gpuChip</th>\n",
       "      <th>G2Dmark</th>\n",
       "      <th>testDate</th>\n",
       "      <th>category</th>\n",
       "    </tr>\n",
       "  </thead>\n",
       "  <tbody>\n",
       "    <tr>\n",
       "      <th>0</th>\n",
       "      <td>NVIDIA</td>\n",
       "      <td>GeForce MX550</td>\n",
       "      <td>2022</td>\n",
       "      <td>2.0</td>\n",
       "      <td>64.0</td>\n",
       "      <td>1065</td>\n",
       "      <td>1500.0</td>\n",
       "      <td>32</td>\n",
       "      <td>16</td>\n",
       "      <td>No</td>\n",
       "      <td>PCIe 4.0 x8</td>\n",
       "      <td>GDDR6</td>\n",
       "      <td>TU117</td>\n",
       "      <td>424</td>\n",
       "      <td>2022</td>\n",
       "      <td>Unknown</td>\n",
       "    </tr>\n",
       "    <tr>\n",
       "      <th>1</th>\n",
       "      <td>NVIDIA</td>\n",
       "      <td>GeForce RTX 3090 Ti</td>\n",
       "      <td>2022</td>\n",
       "      <td>24.0</td>\n",
       "      <td>384.0</td>\n",
       "      <td>1560</td>\n",
       "      <td>1313.0</td>\n",
       "      <td>336</td>\n",
       "      <td>112</td>\n",
       "      <td>No</td>\n",
       "      <td>PCIe 4.0 x16</td>\n",
       "      <td>GDDR6X</td>\n",
       "      <td>GA102</td>\n",
       "      <td>1117</td>\n",
       "      <td>2022</td>\n",
       "      <td>Unknown</td>\n",
       "    </tr>\n",
       "    <tr>\n",
       "      <th>2</th>\n",
       "      <td>AMD</td>\n",
       "      <td>Radeon RX 6400</td>\n",
       "      <td>2022</td>\n",
       "      <td>4.0</td>\n",
       "      <td>64.0</td>\n",
       "      <td>1923</td>\n",
       "      <td>2000.0</td>\n",
       "      <td>48</td>\n",
       "      <td>32</td>\n",
       "      <td>No</td>\n",
       "      <td>PCIe 4.0 x4</td>\n",
       "      <td>GDDR6</td>\n",
       "      <td>Navi 24</td>\n",
       "      <td>899</td>\n",
       "      <td>2022</td>\n",
       "      <td>Unknown</td>\n",
       "    </tr>\n",
       "    <tr>\n",
       "      <th>3</th>\n",
       "      <td>AMD</td>\n",
       "      <td>Radeon RX 6500 XT</td>\n",
       "      <td>2022</td>\n",
       "      <td>4.0</td>\n",
       "      <td>64.0</td>\n",
       "      <td>2310</td>\n",
       "      <td>2248.0</td>\n",
       "      <td>64</td>\n",
       "      <td>32</td>\n",
       "      <td>No</td>\n",
       "      <td>PCIe 4.0 x4</td>\n",
       "      <td>GDDR6</td>\n",
       "      <td>Navi 24</td>\n",
       "      <td>910</td>\n",
       "      <td>2022</td>\n",
       "      <td>Unknown</td>\n",
       "    </tr>\n",
       "    <tr>\n",
       "      <th>4</th>\n",
       "      <td>AMD</td>\n",
       "      <td>Radeon RX 6700S</td>\n",
       "      <td>2022</td>\n",
       "      <td>8.0</td>\n",
       "      <td>128.0</td>\n",
       "      <td>1700</td>\n",
       "      <td>1750.0</td>\n",
       "      <td>112</td>\n",
       "      <td>64</td>\n",
       "      <td>No</td>\n",
       "      <td>PCIe 4.0 x8</td>\n",
       "      <td>GDDR6</td>\n",
       "      <td>Navi 23</td>\n",
       "      <td>829</td>\n",
       "      <td>2022</td>\n",
       "      <td>Unknown</td>\n",
       "    </tr>\n",
       "  </tbody>\n",
       "</table>\n",
       "</div>"
      ],
      "text/plain": [
       "  manufacturer                  GPU  releaseYear  memSize  memBusWidth  \\\n",
       "0       NVIDIA        GeForce MX550         2022      2.0         64.0   \n",
       "1       NVIDIA  GeForce RTX 3090 Ti         2022     24.0        384.0   \n",
       "2          AMD       Radeon RX 6400         2022      4.0         64.0   \n",
       "3          AMD    Radeon RX 6500 XT         2022      4.0         64.0   \n",
       "4          AMD      Radeon RX 6700S         2022      8.0        128.0   \n",
       "\n",
       "   gpuClock  memClock  tmu  rop igp           bus memType  gpuChip  G2Dmark  \\\n",
       "0      1065    1500.0   32   16  No   PCIe 4.0 x8   GDDR6    TU117      424   \n",
       "1      1560    1313.0  336  112  No  PCIe 4.0 x16  GDDR6X    GA102     1117   \n",
       "2      1923    2000.0   48   32  No   PCIe 4.0 x4   GDDR6  Navi 24      899   \n",
       "3      2310    2248.0   64   32  No   PCIe 4.0 x4   GDDR6  Navi 24      910   \n",
       "4      1700    1750.0  112   64  No   PCIe 4.0 x8   GDDR6  Navi 23      829   \n",
       "\n",
       "   testDate category  \n",
       "0      2022  Unknown  \n",
       "1      2022  Unknown  \n",
       "2      2022  Unknown  \n",
       "3      2022  Unknown  \n",
       "4      2022  Unknown  "
      ]
     },
     "execution_count": 54,
     "metadata": {},
     "output_type": "execute_result"
    }
   ],
   "source": [
    "X3.head()"
   ]
  },
  {
   "cell_type": "code",
   "execution_count": 55,
   "id": "48570616",
   "metadata": {},
   "outputs": [],
   "source": [
    "X3[['manufacturer_enc','GPU_enc','igp_enc','bus_enc','memType_enc','gpuChip_enc','category_enc']] = count_encoder.fit_transform(X3[['manufacturer','GPU','igp','bus','memType','gpuChip','category']])"
   ]
  },
  {
   "cell_type": "code",
   "execution_count": 56,
   "id": "10bc1638",
   "metadata": {},
   "outputs": [],
   "source": [
    "X3 = X3.drop(columns = ['manufacturer','GPU','igp','bus','memType','gpuChip','category'])"
   ]
  },
  {
   "cell_type": "code",
   "execution_count": 57,
   "id": "b45ad1a4",
   "metadata": {},
   "outputs": [
    {
     "data": {
      "text/html": [
       "<div>\n",
       "<style scoped>\n",
       "    .dataframe tbody tr th:only-of-type {\n",
       "        vertical-align: middle;\n",
       "    }\n",
       "\n",
       "    .dataframe tbody tr th {\n",
       "        vertical-align: top;\n",
       "    }\n",
       "\n",
       "    .dataframe thead th {\n",
       "        text-align: right;\n",
       "    }\n",
       "</style>\n",
       "<table border=\"1\" class=\"dataframe\">\n",
       "  <thead>\n",
       "    <tr style=\"text-align: right;\">\n",
       "      <th></th>\n",
       "      <th>releaseYear</th>\n",
       "      <th>memSize</th>\n",
       "      <th>memBusWidth</th>\n",
       "      <th>gpuClock</th>\n",
       "      <th>memClock</th>\n",
       "      <th>tmu</th>\n",
       "      <th>rop</th>\n",
       "      <th>G2Dmark</th>\n",
       "      <th>testDate</th>\n",
       "      <th>manufacturer_enc</th>\n",
       "      <th>GPU_enc</th>\n",
       "      <th>igp_enc</th>\n",
       "      <th>bus_enc</th>\n",
       "      <th>memType_enc</th>\n",
       "      <th>gpuChip_enc</th>\n",
       "      <th>category_enc</th>\n",
       "    </tr>\n",
       "  </thead>\n",
       "  <tbody>\n",
       "    <tr>\n",
       "      <th>0</th>\n",
       "      <td>2022</td>\n",
       "      <td>2.0</td>\n",
       "      <td>64.0</td>\n",
       "      <td>1065</td>\n",
       "      <td>1500.0</td>\n",
       "      <td>32</td>\n",
       "      <td>16</td>\n",
       "      <td>424</td>\n",
       "      <td>2022</td>\n",
       "      <td>536</td>\n",
       "      <td>1</td>\n",
       "      <td>786</td>\n",
       "      <td>15</td>\n",
       "      <td>58</td>\n",
       "      <td>5</td>\n",
       "      <td>192</td>\n",
       "    </tr>\n",
       "    <tr>\n",
       "      <th>1</th>\n",
       "      <td>2022</td>\n",
       "      <td>24.0</td>\n",
       "      <td>384.0</td>\n",
       "      <td>1560</td>\n",
       "      <td>1313.0</td>\n",
       "      <td>336</td>\n",
       "      <td>112</td>\n",
       "      <td>1117</td>\n",
       "      <td>2022</td>\n",
       "      <td>536</td>\n",
       "      <td>1</td>\n",
       "      <td>786</td>\n",
       "      <td>29</td>\n",
       "      <td>5</td>\n",
       "      <td>7</td>\n",
       "      <td>192</td>\n",
       "    </tr>\n",
       "    <tr>\n",
       "      <th>2</th>\n",
       "      <td>2022</td>\n",
       "      <td>4.0</td>\n",
       "      <td>64.0</td>\n",
       "      <td>1923</td>\n",
       "      <td>2000.0</td>\n",
       "      <td>48</td>\n",
       "      <td>32</td>\n",
       "      <td>899</td>\n",
       "      <td>2022</td>\n",
       "      <td>250</td>\n",
       "      <td>1</td>\n",
       "      <td>786</td>\n",
       "      <td>2</td>\n",
       "      <td>58</td>\n",
       "      <td>2</td>\n",
       "      <td>192</td>\n",
       "    </tr>\n",
       "    <tr>\n",
       "      <th>3</th>\n",
       "      <td>2022</td>\n",
       "      <td>4.0</td>\n",
       "      <td>64.0</td>\n",
       "      <td>2310</td>\n",
       "      <td>2248.0</td>\n",
       "      <td>64</td>\n",
       "      <td>32</td>\n",
       "      <td>910</td>\n",
       "      <td>2022</td>\n",
       "      <td>250</td>\n",
       "      <td>1</td>\n",
       "      <td>786</td>\n",
       "      <td>2</td>\n",
       "      <td>58</td>\n",
       "      <td>2</td>\n",
       "      <td>192</td>\n",
       "    </tr>\n",
       "    <tr>\n",
       "      <th>4</th>\n",
       "      <td>2022</td>\n",
       "      <td>8.0</td>\n",
       "      <td>128.0</td>\n",
       "      <td>1700</td>\n",
       "      <td>1750.0</td>\n",
       "      <td>112</td>\n",
       "      <td>64</td>\n",
       "      <td>829</td>\n",
       "      <td>2022</td>\n",
       "      <td>250</td>\n",
       "      <td>1</td>\n",
       "      <td>786</td>\n",
       "      <td>15</td>\n",
       "      <td>58</td>\n",
       "      <td>4</td>\n",
       "      <td>192</td>\n",
       "    </tr>\n",
       "  </tbody>\n",
       "</table>\n",
       "</div>"
      ],
      "text/plain": [
       "   releaseYear  memSize  memBusWidth  gpuClock  memClock  tmu  rop  G2Dmark  \\\n",
       "0         2022      2.0         64.0      1065    1500.0   32   16      424   \n",
       "1         2022     24.0        384.0      1560    1313.0  336  112     1117   \n",
       "2         2022      4.0         64.0      1923    2000.0   48   32      899   \n",
       "3         2022      4.0         64.0      2310    2248.0   64   32      910   \n",
       "4         2022      8.0        128.0      1700    1750.0  112   64      829   \n",
       "\n",
       "   testDate  manufacturer_enc  GPU_enc  igp_enc  bus_enc  memType_enc  \\\n",
       "0      2022               536        1      786       15           58   \n",
       "1      2022               536        1      786       29            5   \n",
       "2      2022               250        1      786        2           58   \n",
       "3      2022               250        1      786        2           58   \n",
       "4      2022               250        1      786       15           58   \n",
       "\n",
       "   gpuChip_enc  category_enc  \n",
       "0            5           192  \n",
       "1            7           192  \n",
       "2            2           192  \n",
       "3            2           192  \n",
       "4            4           192  "
      ]
     },
     "execution_count": 57,
     "metadata": {},
     "output_type": "execute_result"
    }
   ],
   "source": [
    "X3.head()"
   ]
  },
  {
   "cell_type": "markdown",
   "id": "a92ee6c3",
   "metadata": {},
   "source": [
    "So, I created my count encoder object, encoded my categorical variables using the fit_transform method of the object, and dropped my original columns, so only the encoded columns were left. They're now marked with the suffix _enc."
   ]
  },
  {
   "cell_type": "code",
   "execution_count": 58,
   "id": "e53f1068",
   "metadata": {},
   "outputs": [],
   "source": [
    "X_train4, X_test4, y_train4, y_test4 = train_test_split(X3, y2, test_size = .25, random_state = 100)"
   ]
  },
  {
   "cell_type": "code",
   "execution_count": 59,
   "id": "301b3f6d",
   "metadata": {},
   "outputs": [],
   "source": [
    "RF5 = RandomForestRegressor()"
   ]
  },
  {
   "cell_type": "code",
   "execution_count": 60,
   "id": "0cc7c7c7",
   "metadata": {},
   "outputs": [
    {
     "data": {
      "text/html": [
       "<style>#sk-container-id-5 {color: black;}#sk-container-id-5 pre{padding: 0;}#sk-container-id-5 div.sk-toggleable {background-color: white;}#sk-container-id-5 label.sk-toggleable__label {cursor: pointer;display: block;width: 100%;margin-bottom: 0;padding: 0.3em;box-sizing: border-box;text-align: center;}#sk-container-id-5 label.sk-toggleable__label-arrow:before {content: \"▸\";float: left;margin-right: 0.25em;color: #696969;}#sk-container-id-5 label.sk-toggleable__label-arrow:hover:before {color: black;}#sk-container-id-5 div.sk-estimator:hover label.sk-toggleable__label-arrow:before {color: black;}#sk-container-id-5 div.sk-toggleable__content {max-height: 0;max-width: 0;overflow: hidden;text-align: left;background-color: #f0f8ff;}#sk-container-id-5 div.sk-toggleable__content pre {margin: 0.2em;color: black;border-radius: 0.25em;background-color: #f0f8ff;}#sk-container-id-5 input.sk-toggleable__control:checked~div.sk-toggleable__content {max-height: 200px;max-width: 100%;overflow: auto;}#sk-container-id-5 input.sk-toggleable__control:checked~label.sk-toggleable__label-arrow:before {content: \"▾\";}#sk-container-id-5 div.sk-estimator input.sk-toggleable__control:checked~label.sk-toggleable__label {background-color: #d4ebff;}#sk-container-id-5 div.sk-label input.sk-toggleable__control:checked~label.sk-toggleable__label {background-color: #d4ebff;}#sk-container-id-5 input.sk-hidden--visually {border: 0;clip: rect(1px 1px 1px 1px);clip: rect(1px, 1px, 1px, 1px);height: 1px;margin: -1px;overflow: hidden;padding: 0;position: absolute;width: 1px;}#sk-container-id-5 div.sk-estimator {font-family: monospace;background-color: #f0f8ff;border: 1px dotted black;border-radius: 0.25em;box-sizing: border-box;margin-bottom: 0.5em;}#sk-container-id-5 div.sk-estimator:hover {background-color: #d4ebff;}#sk-container-id-5 div.sk-parallel-item::after {content: \"\";width: 100%;border-bottom: 1px solid gray;flex-grow: 1;}#sk-container-id-5 div.sk-label:hover label.sk-toggleable__label {background-color: #d4ebff;}#sk-container-id-5 div.sk-serial::before {content: \"\";position: absolute;border-left: 1px solid gray;box-sizing: border-box;top: 0;bottom: 0;left: 50%;z-index: 0;}#sk-container-id-5 div.sk-serial {display: flex;flex-direction: column;align-items: center;background-color: white;padding-right: 0.2em;padding-left: 0.2em;position: relative;}#sk-container-id-5 div.sk-item {position: relative;z-index: 1;}#sk-container-id-5 div.sk-parallel {display: flex;align-items: stretch;justify-content: center;background-color: white;position: relative;}#sk-container-id-5 div.sk-item::before, #sk-container-id-5 div.sk-parallel-item::before {content: \"\";position: absolute;border-left: 1px solid gray;box-sizing: border-box;top: 0;bottom: 0;left: 50%;z-index: -1;}#sk-container-id-5 div.sk-parallel-item {display: flex;flex-direction: column;z-index: 1;position: relative;background-color: white;}#sk-container-id-5 div.sk-parallel-item:first-child::after {align-self: flex-end;width: 50%;}#sk-container-id-5 div.sk-parallel-item:last-child::after {align-self: flex-start;width: 50%;}#sk-container-id-5 div.sk-parallel-item:only-child::after {width: 0;}#sk-container-id-5 div.sk-dashed-wrapped {border: 1px dashed gray;margin: 0 0.4em 0.5em 0.4em;box-sizing: border-box;padding-bottom: 0.4em;background-color: white;}#sk-container-id-5 div.sk-label label {font-family: monospace;font-weight: bold;display: inline-block;line-height: 1.2em;}#sk-container-id-5 div.sk-label-container {text-align: center;}#sk-container-id-5 div.sk-container {/* jupyter's `normalize.less` sets `[hidden] { display: none; }` but bootstrap.min.css set `[hidden] { display: none !important; }` so we also need the `!important` here to be able to override the default hidden behavior on the sphinx rendered scikit-learn.org. See: https://github.com/scikit-learn/scikit-learn/issues/21755 */display: inline-block !important;position: relative;}#sk-container-id-5 div.sk-text-repr-fallback {display: none;}</style><div id=\"sk-container-id-5\" class=\"sk-top-container\"><div class=\"sk-text-repr-fallback\"><pre>RandomForestRegressor()</pre><b>In a Jupyter environment, please rerun this cell to show the HTML representation or trust the notebook. <br />On GitHub, the HTML representation is unable to render, please try loading this page with nbviewer.org.</b></div><div class=\"sk-container\" hidden><div class=\"sk-item\"><div class=\"sk-estimator sk-toggleable\"><input class=\"sk-toggleable__control sk-hidden--visually\" id=\"sk-estimator-id-9\" type=\"checkbox\" checked><label for=\"sk-estimator-id-9\" class=\"sk-toggleable__label sk-toggleable__label-arrow\">RandomForestRegressor</label><div class=\"sk-toggleable__content\"><pre>RandomForestRegressor()</pre></div></div></div></div></div>"
      ],
      "text/plain": [
       "RandomForestRegressor()"
      ]
     },
     "execution_count": 60,
     "metadata": {},
     "output_type": "execute_result"
    }
   ],
   "source": [
    "RF5.fit(X_train4, y_train4)"
   ]
  },
  {
   "cell_type": "code",
   "execution_count": 61,
   "id": "fd3673ea",
   "metadata": {},
   "outputs": [],
   "source": [
    "y_pred6 = RF5.predict(X_test4)"
   ]
  },
  {
   "cell_type": "code",
   "execution_count": 62,
   "id": "12c324df",
   "metadata": {},
   "outputs": [
    {
     "name": "stdout",
     "output_type": "stream",
     "text": [
      "Root Mean Squared Error (RMSE): 756.0330549557916\n",
      "Max Error: 4509.43\n"
     ]
    }
   ],
   "source": [
    "print('Root Mean Squared Error (RMSE):', metrics.mean_squared_error(y_test4, y_pred6, squared=False))\n",
    "print('Max Error:', metrics.max_error(y_test4, y_pred6))\n",
    "\n",
    "RMSE6 =  metrics.mean_squared_error(y_test4, y_pred6, squared=False)\n",
    "ME6 = metrics.max_error(y_test4, y_pred6)"
   ]
  },
  {
   "cell_type": "markdown",
   "id": "b59f2bb9",
   "metadata": {},
   "source": [
    "Hmm, pretty much the same as all my other models. I'll run this newly encoded data through the pipeline to scale it and model again. "
   ]
  },
  {
   "cell_type": "code",
   "execution_count": 63,
   "id": "4e22813e",
   "metadata": {},
   "outputs": [
    {
     "data": {
      "text/html": [
       "<style>#sk-container-id-6 {color: black;}#sk-container-id-6 pre{padding: 0;}#sk-container-id-6 div.sk-toggleable {background-color: white;}#sk-container-id-6 label.sk-toggleable__label {cursor: pointer;display: block;width: 100%;margin-bottom: 0;padding: 0.3em;box-sizing: border-box;text-align: center;}#sk-container-id-6 label.sk-toggleable__label-arrow:before {content: \"▸\";float: left;margin-right: 0.25em;color: #696969;}#sk-container-id-6 label.sk-toggleable__label-arrow:hover:before {color: black;}#sk-container-id-6 div.sk-estimator:hover label.sk-toggleable__label-arrow:before {color: black;}#sk-container-id-6 div.sk-toggleable__content {max-height: 0;max-width: 0;overflow: hidden;text-align: left;background-color: #f0f8ff;}#sk-container-id-6 div.sk-toggleable__content pre {margin: 0.2em;color: black;border-radius: 0.25em;background-color: #f0f8ff;}#sk-container-id-6 input.sk-toggleable__control:checked~div.sk-toggleable__content {max-height: 200px;max-width: 100%;overflow: auto;}#sk-container-id-6 input.sk-toggleable__control:checked~label.sk-toggleable__label-arrow:before {content: \"▾\";}#sk-container-id-6 div.sk-estimator input.sk-toggleable__control:checked~label.sk-toggleable__label {background-color: #d4ebff;}#sk-container-id-6 div.sk-label input.sk-toggleable__control:checked~label.sk-toggleable__label {background-color: #d4ebff;}#sk-container-id-6 input.sk-hidden--visually {border: 0;clip: rect(1px 1px 1px 1px);clip: rect(1px, 1px, 1px, 1px);height: 1px;margin: -1px;overflow: hidden;padding: 0;position: absolute;width: 1px;}#sk-container-id-6 div.sk-estimator {font-family: monospace;background-color: #f0f8ff;border: 1px dotted black;border-radius: 0.25em;box-sizing: border-box;margin-bottom: 0.5em;}#sk-container-id-6 div.sk-estimator:hover {background-color: #d4ebff;}#sk-container-id-6 div.sk-parallel-item::after {content: \"\";width: 100%;border-bottom: 1px solid gray;flex-grow: 1;}#sk-container-id-6 div.sk-label:hover label.sk-toggleable__label {background-color: #d4ebff;}#sk-container-id-6 div.sk-serial::before {content: \"\";position: absolute;border-left: 1px solid gray;box-sizing: border-box;top: 0;bottom: 0;left: 50%;z-index: 0;}#sk-container-id-6 div.sk-serial {display: flex;flex-direction: column;align-items: center;background-color: white;padding-right: 0.2em;padding-left: 0.2em;position: relative;}#sk-container-id-6 div.sk-item {position: relative;z-index: 1;}#sk-container-id-6 div.sk-parallel {display: flex;align-items: stretch;justify-content: center;background-color: white;position: relative;}#sk-container-id-6 div.sk-item::before, #sk-container-id-6 div.sk-parallel-item::before {content: \"\";position: absolute;border-left: 1px solid gray;box-sizing: border-box;top: 0;bottom: 0;left: 50%;z-index: -1;}#sk-container-id-6 div.sk-parallel-item {display: flex;flex-direction: column;z-index: 1;position: relative;background-color: white;}#sk-container-id-6 div.sk-parallel-item:first-child::after {align-self: flex-end;width: 50%;}#sk-container-id-6 div.sk-parallel-item:last-child::after {align-self: flex-start;width: 50%;}#sk-container-id-6 div.sk-parallel-item:only-child::after {width: 0;}#sk-container-id-6 div.sk-dashed-wrapped {border: 1px dashed gray;margin: 0 0.4em 0.5em 0.4em;box-sizing: border-box;padding-bottom: 0.4em;background-color: white;}#sk-container-id-6 div.sk-label label {font-family: monospace;font-weight: bold;display: inline-block;line-height: 1.2em;}#sk-container-id-6 div.sk-label-container {text-align: center;}#sk-container-id-6 div.sk-container {/* jupyter's `normalize.less` sets `[hidden] { display: none; }` but bootstrap.min.css set `[hidden] { display: none !important; }` so we also need the `!important` here to be able to override the default hidden behavior on the sphinx rendered scikit-learn.org. See: https://github.com/scikit-learn/scikit-learn/issues/21755 */display: inline-block !important;position: relative;}#sk-container-id-6 div.sk-text-repr-fallback {display: none;}</style><div id=\"sk-container-id-6\" class=\"sk-top-container\"><div class=\"sk-text-repr-fallback\"><pre>Pipeline(steps=[(&#x27;standardscaler&#x27;, StandardScaler()),\n",
       "                (&#x27;randomforestregressor&#x27;, RandomForestRegressor())])</pre><b>In a Jupyter environment, please rerun this cell to show the HTML representation or trust the notebook. <br />On GitHub, the HTML representation is unable to render, please try loading this page with nbviewer.org.</b></div><div class=\"sk-container\" hidden><div class=\"sk-item sk-dashed-wrapped\"><div class=\"sk-label-container\"><div class=\"sk-label sk-toggleable\"><input class=\"sk-toggleable__control sk-hidden--visually\" id=\"sk-estimator-id-10\" type=\"checkbox\" ><label for=\"sk-estimator-id-10\" class=\"sk-toggleable__label sk-toggleable__label-arrow\">Pipeline</label><div class=\"sk-toggleable__content\"><pre>Pipeline(steps=[(&#x27;standardscaler&#x27;, StandardScaler()),\n",
       "                (&#x27;randomforestregressor&#x27;, RandomForestRegressor())])</pre></div></div></div><div class=\"sk-serial\"><div class=\"sk-item\"><div class=\"sk-estimator sk-toggleable\"><input class=\"sk-toggleable__control sk-hidden--visually\" id=\"sk-estimator-id-11\" type=\"checkbox\" ><label for=\"sk-estimator-id-11\" class=\"sk-toggleable__label sk-toggleable__label-arrow\">StandardScaler</label><div class=\"sk-toggleable__content\"><pre>StandardScaler()</pre></div></div></div><div class=\"sk-item\"><div class=\"sk-estimator sk-toggleable\"><input class=\"sk-toggleable__control sk-hidden--visually\" id=\"sk-estimator-id-12\" type=\"checkbox\" ><label for=\"sk-estimator-id-12\" class=\"sk-toggleable__label sk-toggleable__label-arrow\">RandomForestRegressor</label><div class=\"sk-toggleable__content\"><pre>RandomForestRegressor()</pre></div></div></div></div></div></div></div>"
      ],
      "text/plain": [
       "Pipeline(steps=[('standardscaler', StandardScaler()),\n",
       "                ('randomforestregressor', RandomForestRegressor())])"
      ]
     },
     "execution_count": 63,
     "metadata": {},
     "output_type": "execute_result"
    }
   ],
   "source": [
    "pipeline2.fit(X_train4, y_train4)"
   ]
  },
  {
   "cell_type": "code",
   "execution_count": 64,
   "id": "5a2eb37c",
   "metadata": {},
   "outputs": [],
   "source": [
    "y_pred7 = pipeline2.predict(X_test4)"
   ]
  },
  {
   "cell_type": "code",
   "execution_count": 65,
   "id": "5476d0b4",
   "metadata": {},
   "outputs": [],
   "source": [
    "import statsmodels.api as sm"
   ]
  },
  {
   "cell_type": "code",
   "execution_count": 66,
   "id": "4c6a3939",
   "metadata": {},
   "outputs": [
    {
     "name": "stdout",
     "output_type": "stream",
     "text": [
      "Root Mean Squared Error (RMSE): 756.8486874712169\n",
      "Max Error: 4420.4400000000005\n"
     ]
    }
   ],
   "source": [
    "print('Root Mean Squared Error (RMSE):', metrics.mean_squared_error(y_test4, y_pred7, squared=False))\n",
    "print('Max Error:', metrics.max_error(y_test4, y_pred7))\n",
    "\n",
    "RMSE7 = metrics.mean_squared_error(y_test4, y_pred7, squared=False)\n",
    "ME7 = metrics.max_error(y_test4, y_pred7)"
   ]
  },
  {
   "cell_type": "markdown",
   "id": "97e2e9f2",
   "metadata": {},
   "source": [
    "I've now encoded two different ways, tried tunning with random search (which didn't result in any improvements), tried removing my categorical variables all together, and for each of those scanrios, I've modeled using data that was scaled and not scaled. \n",
    "\n",
    "My mind keeps coming back to the fact that there as so many different ways of encoding, scaling, modeling, that I could spend months trying different combos, I suppose in the real world I may do just that! \n",
    "\n",
    "For the sake of a first project, I'll leave this here. I'm going to try a gradient boost model now and see what happens, then I'll turn this in for feedback. "
   ]
  },
  {
   "cell_type": "code",
   "execution_count": 67,
   "id": "7768f3f4",
   "metadata": {},
   "outputs": [],
   "source": [
    "GB = GradientBoostingRegressor()"
   ]
  },
  {
   "cell_type": "markdown",
   "id": "d38292cc",
   "metadata": {},
   "source": [
    "I'm going to use my count encoded data as my X, and (of course) the G3Dmark scores as my y. "
   ]
  },
  {
   "cell_type": "code",
   "execution_count": 68,
   "id": "337896e2",
   "metadata": {},
   "outputs": [],
   "source": [
    "X_trainGB, X_testGB, y_trainGB, y_testGB = train_test_split(X3, y2, test_size = 0.25, random_state = 100)"
   ]
  },
  {
   "cell_type": "code",
   "execution_count": 69,
   "id": "e59e51c1",
   "metadata": {},
   "outputs": [
    {
     "data": {
      "text/html": [
       "<div>\n",
       "<style scoped>\n",
       "    .dataframe tbody tr th:only-of-type {\n",
       "        vertical-align: middle;\n",
       "    }\n",
       "\n",
       "    .dataframe tbody tr th {\n",
       "        vertical-align: top;\n",
       "    }\n",
       "\n",
       "    .dataframe thead th {\n",
       "        text-align: right;\n",
       "    }\n",
       "</style>\n",
       "<table border=\"1\" class=\"dataframe\">\n",
       "  <thead>\n",
       "    <tr style=\"text-align: right;\">\n",
       "      <th></th>\n",
       "      <th>releaseYear</th>\n",
       "      <th>memSize</th>\n",
       "      <th>memBusWidth</th>\n",
       "      <th>gpuClock</th>\n",
       "      <th>memClock</th>\n",
       "      <th>tmu</th>\n",
       "      <th>rop</th>\n",
       "      <th>G2Dmark</th>\n",
       "      <th>testDate</th>\n",
       "      <th>manufacturer_enc</th>\n",
       "      <th>GPU_enc</th>\n",
       "      <th>igp_enc</th>\n",
       "      <th>bus_enc</th>\n",
       "      <th>memType_enc</th>\n",
       "      <th>gpuChip_enc</th>\n",
       "      <th>category_enc</th>\n",
       "    </tr>\n",
       "  </thead>\n",
       "  <tbody>\n",
       "    <tr>\n",
       "      <th>44</th>\n",
       "      <td>2019</td>\n",
       "      <td>6.000</td>\n",
       "      <td>192.0</td>\n",
       "      <td>1530</td>\n",
       "      <td>2001.0</td>\n",
       "      <td>88</td>\n",
       "      <td>48</td>\n",
       "      <td>796</td>\n",
       "      <td>2019</td>\n",
       "      <td>536</td>\n",
       "      <td>1</td>\n",
       "      <td>786</td>\n",
       "      <td>211</td>\n",
       "      <td>298</td>\n",
       "      <td>4</td>\n",
       "      <td>223</td>\n",
       "    </tr>\n",
       "    <tr>\n",
       "      <th>328</th>\n",
       "      <td>2013</td>\n",
       "      <td>3.000</td>\n",
       "      <td>384.0</td>\n",
       "      <td>863</td>\n",
       "      <td>1502.0</td>\n",
       "      <td>192</td>\n",
       "      <td>48</td>\n",
       "      <td>601</td>\n",
       "      <td>2013</td>\n",
       "      <td>536</td>\n",
       "      <td>1</td>\n",
       "      <td>786</td>\n",
       "      <td>211</td>\n",
       "      <td>298</td>\n",
       "      <td>3</td>\n",
       "      <td>223</td>\n",
       "    </tr>\n",
       "    <tr>\n",
       "      <th>444</th>\n",
       "      <td>2012</td>\n",
       "      <td>2.000</td>\n",
       "      <td>256.0</td>\n",
       "      <td>860</td>\n",
       "      <td>1200.0</td>\n",
       "      <td>64</td>\n",
       "      <td>32</td>\n",
       "      <td>550</td>\n",
       "      <td>2012</td>\n",
       "      <td>250</td>\n",
       "      <td>1</td>\n",
       "      <td>786</td>\n",
       "      <td>211</td>\n",
       "      <td>298</td>\n",
       "      <td>6</td>\n",
       "      <td>223</td>\n",
       "    </tr>\n",
       "    <tr>\n",
       "      <th>726</th>\n",
       "      <td>2005</td>\n",
       "      <td>0.256</td>\n",
       "      <td>256.0</td>\n",
       "      <td>425</td>\n",
       "      <td>500.0</td>\n",
       "      <td>12</td>\n",
       "      <td>12</td>\n",
       "      <td>235</td>\n",
       "      <td>2009</td>\n",
       "      <td>536</td>\n",
       "      <td>1</td>\n",
       "      <td>786</td>\n",
       "      <td>85</td>\n",
       "      <td>148</td>\n",
       "      <td>8</td>\n",
       "      <td>172</td>\n",
       "    </tr>\n",
       "    <tr>\n",
       "      <th>31</th>\n",
       "      <td>2020</td>\n",
       "      <td>16.000</td>\n",
       "      <td>256.0</td>\n",
       "      <td>1243</td>\n",
       "      <td>1500.0</td>\n",
       "      <td>160</td>\n",
       "      <td>64</td>\n",
       "      <td>831</td>\n",
       "      <td>2020</td>\n",
       "      <td>250</td>\n",
       "      <td>1</td>\n",
       "      <td>786</td>\n",
       "      <td>29</td>\n",
       "      <td>58</td>\n",
       "      <td>8</td>\n",
       "      <td>223</td>\n",
       "    </tr>\n",
       "  </tbody>\n",
       "</table>\n",
       "</div>"
      ],
      "text/plain": [
       "     releaseYear  memSize  memBusWidth  gpuClock  memClock  tmu  rop  G2Dmark  \\\n",
       "44          2019    6.000        192.0      1530    2001.0   88   48      796   \n",
       "328         2013    3.000        384.0       863    1502.0  192   48      601   \n",
       "444         2012    2.000        256.0       860    1200.0   64   32      550   \n",
       "726         2005    0.256        256.0       425     500.0   12   12      235   \n",
       "31          2020   16.000        256.0      1243    1500.0  160   64      831   \n",
       "\n",
       "     testDate  manufacturer_enc  GPU_enc  igp_enc  bus_enc  memType_enc  \\\n",
       "44       2019               536        1      786      211          298   \n",
       "328      2013               536        1      786      211          298   \n",
       "444      2012               250        1      786      211          298   \n",
       "726      2009               536        1      786       85          148   \n",
       "31       2020               250        1      786       29           58   \n",
       "\n",
       "     gpuChip_enc  category_enc  \n",
       "44             4           223  \n",
       "328            3           223  \n",
       "444            6           223  \n",
       "726            8           172  \n",
       "31             8           223  "
      ]
     },
     "execution_count": 69,
     "metadata": {},
     "output_type": "execute_result"
    }
   ],
   "source": [
    "X_trainGB.head()"
   ]
  },
  {
   "cell_type": "code",
   "execution_count": 70,
   "id": "18ddb08d",
   "metadata": {},
   "outputs": [
    {
     "data": {
      "text/html": [
       "<style>#sk-container-id-7 {color: black;}#sk-container-id-7 pre{padding: 0;}#sk-container-id-7 div.sk-toggleable {background-color: white;}#sk-container-id-7 label.sk-toggleable__label {cursor: pointer;display: block;width: 100%;margin-bottom: 0;padding: 0.3em;box-sizing: border-box;text-align: center;}#sk-container-id-7 label.sk-toggleable__label-arrow:before {content: \"▸\";float: left;margin-right: 0.25em;color: #696969;}#sk-container-id-7 label.sk-toggleable__label-arrow:hover:before {color: black;}#sk-container-id-7 div.sk-estimator:hover label.sk-toggleable__label-arrow:before {color: black;}#sk-container-id-7 div.sk-toggleable__content {max-height: 0;max-width: 0;overflow: hidden;text-align: left;background-color: #f0f8ff;}#sk-container-id-7 div.sk-toggleable__content pre {margin: 0.2em;color: black;border-radius: 0.25em;background-color: #f0f8ff;}#sk-container-id-7 input.sk-toggleable__control:checked~div.sk-toggleable__content {max-height: 200px;max-width: 100%;overflow: auto;}#sk-container-id-7 input.sk-toggleable__control:checked~label.sk-toggleable__label-arrow:before {content: \"▾\";}#sk-container-id-7 div.sk-estimator input.sk-toggleable__control:checked~label.sk-toggleable__label {background-color: #d4ebff;}#sk-container-id-7 div.sk-label input.sk-toggleable__control:checked~label.sk-toggleable__label {background-color: #d4ebff;}#sk-container-id-7 input.sk-hidden--visually {border: 0;clip: rect(1px 1px 1px 1px);clip: rect(1px, 1px, 1px, 1px);height: 1px;margin: -1px;overflow: hidden;padding: 0;position: absolute;width: 1px;}#sk-container-id-7 div.sk-estimator {font-family: monospace;background-color: #f0f8ff;border: 1px dotted black;border-radius: 0.25em;box-sizing: border-box;margin-bottom: 0.5em;}#sk-container-id-7 div.sk-estimator:hover {background-color: #d4ebff;}#sk-container-id-7 div.sk-parallel-item::after {content: \"\";width: 100%;border-bottom: 1px solid gray;flex-grow: 1;}#sk-container-id-7 div.sk-label:hover label.sk-toggleable__label {background-color: #d4ebff;}#sk-container-id-7 div.sk-serial::before {content: \"\";position: absolute;border-left: 1px solid gray;box-sizing: border-box;top: 0;bottom: 0;left: 50%;z-index: 0;}#sk-container-id-7 div.sk-serial {display: flex;flex-direction: column;align-items: center;background-color: white;padding-right: 0.2em;padding-left: 0.2em;position: relative;}#sk-container-id-7 div.sk-item {position: relative;z-index: 1;}#sk-container-id-7 div.sk-parallel {display: flex;align-items: stretch;justify-content: center;background-color: white;position: relative;}#sk-container-id-7 div.sk-item::before, #sk-container-id-7 div.sk-parallel-item::before {content: \"\";position: absolute;border-left: 1px solid gray;box-sizing: border-box;top: 0;bottom: 0;left: 50%;z-index: -1;}#sk-container-id-7 div.sk-parallel-item {display: flex;flex-direction: column;z-index: 1;position: relative;background-color: white;}#sk-container-id-7 div.sk-parallel-item:first-child::after {align-self: flex-end;width: 50%;}#sk-container-id-7 div.sk-parallel-item:last-child::after {align-self: flex-start;width: 50%;}#sk-container-id-7 div.sk-parallel-item:only-child::after {width: 0;}#sk-container-id-7 div.sk-dashed-wrapped {border: 1px dashed gray;margin: 0 0.4em 0.5em 0.4em;box-sizing: border-box;padding-bottom: 0.4em;background-color: white;}#sk-container-id-7 div.sk-label label {font-family: monospace;font-weight: bold;display: inline-block;line-height: 1.2em;}#sk-container-id-7 div.sk-label-container {text-align: center;}#sk-container-id-7 div.sk-container {/* jupyter's `normalize.less` sets `[hidden] { display: none; }` but bootstrap.min.css set `[hidden] { display: none !important; }` so we also need the `!important` here to be able to override the default hidden behavior on the sphinx rendered scikit-learn.org. See: https://github.com/scikit-learn/scikit-learn/issues/21755 */display: inline-block !important;position: relative;}#sk-container-id-7 div.sk-text-repr-fallback {display: none;}</style><div id=\"sk-container-id-7\" class=\"sk-top-container\"><div class=\"sk-text-repr-fallback\"><pre>GradientBoostingRegressor()</pre><b>In a Jupyter environment, please rerun this cell to show the HTML representation or trust the notebook. <br />On GitHub, the HTML representation is unable to render, please try loading this page with nbviewer.org.</b></div><div class=\"sk-container\" hidden><div class=\"sk-item\"><div class=\"sk-estimator sk-toggleable\"><input class=\"sk-toggleable__control sk-hidden--visually\" id=\"sk-estimator-id-13\" type=\"checkbox\" checked><label for=\"sk-estimator-id-13\" class=\"sk-toggleable__label sk-toggleable__label-arrow\">GradientBoostingRegressor</label><div class=\"sk-toggleable__content\"><pre>GradientBoostingRegressor()</pre></div></div></div></div></div>"
      ],
      "text/plain": [
       "GradientBoostingRegressor()"
      ]
     },
     "execution_count": 70,
     "metadata": {},
     "output_type": "execute_result"
    }
   ],
   "source": [
    "GB.fit(X_trainGB, y_trainGB)"
   ]
  },
  {
   "cell_type": "code",
   "execution_count": 71,
   "id": "881e1f36",
   "metadata": {},
   "outputs": [],
   "source": [
    "y_predGB = GB.predict(X_testGB)"
   ]
  },
  {
   "cell_type": "code",
   "execution_count": 72,
   "id": "ec885f84",
   "metadata": {},
   "outputs": [
    {
     "name": "stdout",
     "output_type": "stream",
     "text": [
      "Root Mean Squared Error (RMSE): 760.3670806055584\n",
      "Max Error: 3740.8281026068007\n"
     ]
    }
   ],
   "source": [
    "print('Root Mean Squared Error (RMSE):', metrics.mean_squared_error(y_testGB, y_predGB, squared=False))\n",
    "print('Max Error:', metrics.max_error(y_testGB, y_predGB))\n",
    "\n",
    "RMSE8 = metrics.mean_squared_error(y_testGB, y_predGB, squared=False)\n",
    "ME8 = metrics.max_error(y_testGB, y_predGB)"
   ]
  },
  {
   "cell_type": "markdown",
   "id": "e0a8da7a",
   "metadata": {},
   "source": [
    "I'm going to loop through different options for the learning rate and number of estimators hyper parameters using I function I found after some research on GB models. "
   ]
  },
  {
   "cell_type": "code",
   "execution_count": 73,
   "id": "758f3918",
   "metadata": {},
   "outputs": [
    {
     "name": "stdout",
     "output_type": "stream",
     "text": [
      "predict output for GradientBoostingRegressor: learning_rate=0.1, n_estimators=100\n",
      "The mean squared error (MSE) on test set: 567533.6361\n",
      "Accuracy on training set: 0.994\n",
      "Accuracy on test set: 0.976\n",
      "==============================================\n",
      "predict output for GradientBoostingRegressor: learning_rate=0.1, n_estimators=250\n",
      "The mean squared error (MSE) on test set: 529911.2134\n",
      "Accuracy on training set: 0.998\n",
      "Accuracy on test set: 0.978\n",
      "==============================================\n",
      "predict output for GradientBoostingRegressor: learning_rate=0.1, n_estimators=500\n",
      "The mean squared error (MSE) on test set: 518323.1299\n",
      "Accuracy on training set: 1.000\n",
      "Accuracy on test set: 0.978\n",
      "==============================================\n",
      "predict output for GradientBoostingRegressor: learning_rate=0.1, n_estimators=750\n",
      "The mean squared error (MSE) on test set: 521074.7266\n",
      "Accuracy on training set: 1.000\n",
      "Accuracy on test set: 0.978\n",
      "==============================================\n",
      "predict output for GradientBoostingRegressor: learning_rate=0.01, n_estimators=100\n",
      "The mean squared error (MSE) on test set: 4441455.2692\n",
      "Accuracy on training set: 0.823\n",
      "Accuracy on test set: 0.816\n",
      "==============================================\n",
      "predict output for GradientBoostingRegressor: learning_rate=0.01, n_estimators=250\n",
      "The mean squared error (MSE) on test set: 1067288.3306\n",
      "Accuracy on training set: 0.973\n",
      "Accuracy on test set: 0.956\n",
      "==============================================\n",
      "predict output for GradientBoostingRegressor: learning_rate=0.01, n_estimators=500\n",
      "The mean squared error (MSE) on test set: 676005.6523\n",
      "Accuracy on training set: 0.990\n",
      "Accuracy on test set: 0.972\n",
      "==============================================\n",
      "predict output for GradientBoostingRegressor: learning_rate=0.01, n_estimators=750\n",
      "The mean squared error (MSE) on test set: 616421.5890\n",
      "Accuracy on training set: 0.992\n",
      "Accuracy on test set: 0.974\n",
      "==============================================\n",
      "predict output for GradientBoostingRegressor: learning_rate=0.001, n_estimators=100\n",
      "The mean squared error (MSE) on test set: 20034764.0024\n",
      "Accuracy on training set: 0.166\n",
      "Accuracy on test set: 0.169\n",
      "==============================================\n",
      "predict output for GradientBoostingRegressor: learning_rate=0.001, n_estimators=250\n",
      "The mean squared error (MSE) on test set: 15195601.4744\n",
      "Accuracy on training set: 0.364\n",
      "Accuracy on test set: 0.369\n",
      "==============================================\n",
      "predict output for GradientBoostingRegressor: learning_rate=0.001, n_estimators=500\n",
      "The mean squared error (MSE) on test set: 9757420.2540\n",
      "Accuracy on training set: 0.589\n",
      "Accuracy on test set: 0.595\n",
      "==============================================\n",
      "predict output for GradientBoostingRegressor: learning_rate=0.001, n_estimators=750\n",
      "The mean squared error (MSE) on test set: 6527023.5253\n",
      "Accuracy on training set: 0.731\n",
      "Accuracy on test set: 0.729\n",
      "==============================================\n"
     ]
    }
   ],
   "source": [
    "for i in [0.1, 0.01, 0.001]:\n",
    "    for j in [100, 250, 500, 750]:\n",
    "        gbt = GradientBoostingRegressor(learning_rate=i, n_estimators=j)\n",
    "        gbt = gbt.fit(X_trainGB, y_trainGB)\n",
    "        print(\"predict output for GradientBoostingRegressor: learning_rate={}, n_estimators={}\".format(i, j))\n",
    "        mse = mean_squared_error(y_testGB, gbt.predict(X_testGB))\n",
    "        print(\"The mean squared error (MSE) on test set: {:.4f}\".format(mse))\n",
    "\n",
    "        pred2 = gbt.predict(X_testGB)\n",
    "        print(\"Accuracy on training set: %.3f\" % gbt.score(X_trainGB, y_trainGB))\n",
    "        print(\"Accuracy on test set: %.3f\" % gbt.score(X_testGB, y_testGB))\n",
    "        print(\"==============================================\")"
   ]
  },
  {
   "cell_type": "markdown",
   "id": "364d9829",
   "metadata": {},
   "source": [
    "Now I'll learn and test on the params that gave the best results. "
   ]
  },
  {
   "cell_type": "code",
   "execution_count": 74,
   "id": "97b15d41",
   "metadata": {},
   "outputs": [
    {
     "name": "stdout",
     "output_type": "stream",
     "text": [
      "Predict output for this Gradient Boosting Regressor: learning_rate=0.001, n_estimators=750\n",
      "The mean squared error (MSE) on test set: 513108.1766\n",
      "The best accuracy on training set: 0.998\n",
      "The best accuracy on test set: 0.979\n"
     ]
    }
   ],
   "source": [
    "gbt = GradientBoostingRegressor(learning_rate=0.1, n_estimators=250)\n",
    "\n",
    "gbt = gbt.fit(X_trainGB, y_trainGB)\n",
    "y_predGB2 = gbt.predict(X_testGB)\n",
    "print(\"Predict output for this Gradient Boosting Regressor: learning_rate={}, n_estimators={}\".format(i, j))\n",
    "mse = mean_squared_error(y_testGB, gbt.predict(X_testGB))\n",
    "print(\"The mean squared error (MSE) on test set: {:.4f}\".format(mse))\n",
    "\n",
    "pred2 = gbt.predict(X_testGB)\n",
    "print(\"The best accuracy on training set: %.3f\" % gbt.score(X_trainGB, y_trainGB))\n",
    "print(\"The best accuracy on test set: %.3f\" % gbt.score(X_testGB, y_testGB))"
   ]
  },
  {
   "cell_type": "code",
   "execution_count": 75,
   "id": "cb46faaf",
   "metadata": {},
   "outputs": [
    {
     "name": "stdout",
     "output_type": "stream",
     "text": [
      "Root Mean Squared Error (RMSE): 716.3156961536246\n",
      "Max Error: 3737.88005259323\n"
     ]
    }
   ],
   "source": [
    "print('Root Mean Squared Error (RMSE):', metrics.mean_squared_error(y_testGB, y_predGB2, squared=False))\n",
    "print('Max Error:', metrics.max_error(y_testGB, y_predGB2))\n",
    "\n",
    "RMSE9 =  metrics.mean_squared_error(y_testGB, y_predGB2, squared=False)\n",
    "ME9 = metrics.max_error(y_testGB, y_predGB2)"
   ]
  },
  {
   "cell_type": "code",
   "execution_count": 76,
   "id": "24084e53",
   "metadata": {},
   "outputs": [
    {
     "data": {
      "image/png": "[encoded data removed]",
      "text/plain": [
       "<Figure size 1200x600 with 2 Axes>"
      ]
     },
     "metadata": {},
     "output_type": "display_data"
    }
   ],
   "source": [
    "sns.set_style('darkgrid')\n",
    "feature_importance = gbt.feature_importances_\n",
    "sorted_idx = np.argsort(feature_importance)\n",
    "pos = np.arange(sorted_idx.shape[0]) + 0.5\n",
    "fig = plt.figure(figsize=(12, 6))\n",
    "plt.subplot(1, 2, 1)\n",
    "plt.barh(pos, feature_importance[sorted_idx], align=\"center\")\n",
    "plt.yticks(pos, np.array(gpu.columns)[sorted_idx])\n",
    "plt.title(\"Tuned Gradient Boost Model Feature Importance\")\n",
    "plt.savefig('FeatureImportance.png', bbox_inches = 'tight', pad_inches = 1)\n",
    "\n",
    "result = permutation_importance(\n",
    "    gbt, X_testGB, y_testGB, n_repeats=10, random_state=42, n_jobs=2\n",
    ")\n",
    "sorted_idx = result.importances_mean.argsort()\n",
    "plt.subplot(1, 2, 2)\n",
    "plt.boxplot(\n",
    "    result.importances[sorted_idx].T,\n",
    "    vert=False,\n",
    "    labels=np.array(gpu.columns)[sorted_idx],\n",
    ")\n",
    "plt.title(\"Tuned Gradient Boost Permutation Importance\")\n",
    "fig.tight_layout()\n",
    "plt.savefig('PermImportance.png', bbox_inches = 'tight', pad_inches = 1)"
   ]
  },
  {
   "cell_type": "code",
   "execution_count": 93,
   "id": "372f5ca6",
   "metadata": {},
   "outputs": [],
   "source": [
    "metrics_df = pd.DataFrame(d)"
   ]
  },
  {
   "cell_type": "code",
   "execution_count": 95,
   "id": "332aa6b4",
   "metadata": {},
   "outputs": [],
   "source": [
    "metrics_df.to_csv('Metrics.csv')"
   ]
  },
  {
   "cell_type": "code",
   "execution_count": 81,
   "id": "5bb29e78",
   "metadata": {},
   "outputs": [
    {
     "name": "stdout",
     "output_type": "stream",
     "text": [
      "{'alpha': 0.9, 'ccp_alpha': 0.0, 'criterion': 'friedman_mse', 'init': None, 'learning_rate': 0.1, 'loss': 'squared_error', 'max_depth': 3, 'max_features': None, 'max_leaf_nodes': None, 'min_impurity_decrease': 0.0, 'min_samples_leaf': 1, 'min_samples_split': 2, 'min_weight_fraction_leaf': 0.0, 'n_estimators': 250, 'n_iter_no_change': None, 'random_state': None, 'subsample': 1.0, 'tol': 0.0001, 'validation_fraction': 0.1, 'verbose': 0, 'warm_start': False}\n"
     ]
    }
   ],
   "source": [
    "print(gbt.get_params())"
   ]
  },
  {
   "cell_type": "markdown",
   "id": "60e21d39",
   "metadata": {},
   "source": [
    "Judging on test set accuracy and MSE, this gradient boost model, using count encoded data, that was not scaled, gave me the best overall results so far. \n",
    "\n",
    "Let's try this same thing but with data that was dummy encoded. "
   ]
  },
  {
   "cell_type": "code",
   "execution_count": 82,
   "id": "c983866b",
   "metadata": {},
   "outputs": [],
   "source": [
    "X_trainGB2, X_testGB2, y_trainGB2, y_testGB2 = train_test_split(X, y, test_size = 0.25, random_state = 100)"
   ]
  },
  {
   "cell_type": "code",
   "execution_count": 83,
   "id": "e2e3bd4c",
   "metadata": {},
   "outputs": [
    {
     "name": "stdout",
     "output_type": "stream",
     "text": [
      "predict output for GradientBoostingRegressor: learning_rate=0.1, n_estimators=100\n",
      "The mean squared error (MSE) on test set: 659831.2493\n",
      "Accuracy on training set: 0.994\n",
      "Accuracy on test set: 0.973\n",
      "==============================================\n",
      "predict output for GradientBoostingRegressor: learning_rate=0.1, n_estimators=250\n",
      "The mean squared error (MSE) on test set: 608219.9694\n",
      "Accuracy on training set: 0.998\n",
      "Accuracy on test set: 0.975\n",
      "==============================================\n",
      "predict output for GradientBoostingRegressor: learning_rate=0.1, n_estimators=500\n",
      "The mean squared error (MSE) on test set: 593493.9553\n",
      "Accuracy on training set: 0.999\n",
      "Accuracy on test set: 0.975\n",
      "==============================================\n",
      "predict output for GradientBoostingRegressor: learning_rate=0.1, n_estimators=750\n",
      "The mean squared error (MSE) on test set: 584033.4026\n",
      "Accuracy on training set: 0.999\n",
      "Accuracy on test set: 0.976\n",
      "==============================================\n",
      "predict output for GradientBoostingRegressor: learning_rate=0.01, n_estimators=100\n",
      "The mean squared error (MSE) on test set: 4480984.7301\n",
      "Accuracy on training set: 0.823\n",
      "Accuracy on test set: 0.814\n",
      "==============================================\n",
      "predict output for GradientBoostingRegressor: learning_rate=0.01, n_estimators=250\n",
      "The mean squared error (MSE) on test set: 1062408.8352\n",
      "Accuracy on training set: 0.974\n",
      "Accuracy on test set: 0.956\n",
      "==============================================\n",
      "predict output for GradientBoostingRegressor: learning_rate=0.01, n_estimators=500\n",
      "The mean squared error (MSE) on test set: 675181.8548\n",
      "Accuracy on training set: 0.992\n",
      "Accuracy on test set: 0.972\n",
      "==============================================\n",
      "predict output for GradientBoostingRegressor: learning_rate=0.01, n_estimators=750\n",
      "The mean squared error (MSE) on test set: 654414.3905\n",
      "Accuracy on training set: 0.994\n",
      "Accuracy on test set: 0.973\n",
      "==============================================\n",
      "predict output for GradientBoostingRegressor: learning_rate=0.001, n_estimators=100\n",
      "The mean squared error (MSE) on test set: 20044361.4238\n",
      "Accuracy on training set: 0.166\n",
      "Accuracy on test set: 0.168\n",
      "==============================================\n",
      "predict output for GradientBoostingRegressor: learning_rate=0.001, n_estimators=250\n",
      "The mean squared error (MSE) on test set: 15226719.4356\n",
      "Accuracy on training set: 0.364\n",
      "Accuracy on test set: 0.368\n",
      "==============================================\n",
      "predict output for GradientBoostingRegressor: learning_rate=0.001, n_estimators=500\n",
      "The mean squared error (MSE) on test set: 9798609.8610\n",
      "Accuracy on training set: 0.590\n",
      "Accuracy on test set: 0.593\n",
      "==============================================\n",
      "predict output for GradientBoostingRegressor: learning_rate=0.001, n_estimators=750\n",
      "The mean squared error (MSE) on test set: 6566362.2502\n",
      "Accuracy on training set: 0.731\n",
      "Accuracy on test set: 0.728\n",
      "==============================================\n"
     ]
    }
   ],
   "source": [
    "for i in [0.1, 0.01, 0.001]:\n",
    "    for j in [100, 250, 500, 750]:\n",
    "        gbt = GradientBoostingRegressor(learning_rate=i, n_estimators=j)\n",
    "        gbt = gbt.fit(X_trainGB2, y_trainGB2)\n",
    "        print(\"predict output for GradientBoostingRegressor: learning_rate={}, n_estimators={}\".format(i, j))\n",
    "        mse = mean_squared_error(y_testGB2, gbt.predict(X_testGB2))\n",
    "        print(\"The mean squared error (MSE) on test set: {:.4f}\".format(mse))\n",
    "\n",
    "        pred2 = gbt.predict(X_testGB2)\n",
    "        print(\"Accuracy on training set: %.3f\" % gbt.score(X_trainGB2, y_trainGB2))\n",
    "        print(\"Accuracy on test set: %.3f\" % gbt.score(X_testGB2, y_testGB2))\n",
    "        print(\"==============================================\")"
   ]
  },
  {
   "cell_type": "markdown",
   "id": "8a081b72",
   "metadata": {},
   "source": [
    "So a very small decrease in test score on the best performing model, but it's so small it may just be margin or error. Seems like count encoding and dummy encoding provide very similar results. The count encoded data was much faster to run, so I'd stick with that in the future. "
   ]
  },
  {
   "cell_type": "markdown",
   "id": "5295a4b7",
   "metadata": {},
   "source": [
    "# Final Results\n",
    "\n",
    "Top Two Models: \n",
    "\n",
    "Rank 1: My Gradient Boosted Model, using count encoded data, that was not scaled, slighly tuned on two parameters.\n",
    "\n",
    "Rank 2: My basic Random Forest model using only my numerical features (that were scaled) and dropping all categorical features. "
   ]
  },
  {
   "cell_type": "code",
   "execution_count": 92,
   "id": "3698361d",
   "metadata": {},
   "outputs": [],
   "source": [
    "d = {'Algo': ['Basic RF - Dummy Encoded - Not Scaled', 'Basic RF Random Search CV - Dummy Enc - Not Scaled','Basic RF - Dummy Encoded - Standard Scaled', 'Basic RF - No Cat Features - Not Scaled', 'Basic RF - No Cat Features - Standard Scaled', 'Basic RF - Count Encoded - Not Scaled', 'Basic RF - Count Encoded - Standard Scaled', 'Basic GB - Count Encoded- Not Scaled', 'Tuned GB - Count Encoded - Not Scaled'],\n",
    "     'RSME': [RMSE1, RMSE2, RMSE3, RMSE4, RMSE5, RMSE6, RMSE7, RMSE8, RMSE9],\n",
    "     'MAX ERROR': [Max_Error1, ME2, ME3, ME4, ME5, ME6, ME7, ME8, ME9]}"
   ]
  }
 ],
 "metadata": {
  "kernelspec": {
   "display_name": "Python 3 (ipykernel)",
   "language": "python",
   "name": "python3"
  },
  "language_info": {
   "codemirror_mode": {
    "name": "ipython",
    "version": 3
   },
   "file_extension": ".py",
   "mimetype": "text/x-python",
   "name": "python",
   "nbconvert_exporter": "python",
   "pygments_lexer": "ipython3",
   "version": "3.11.5"
  }
 },
 "nbformat": 4,
 "nbformat_minor": 5
}
